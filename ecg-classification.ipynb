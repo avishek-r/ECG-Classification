{
 "cells": [
  {
   "cell_type": "code",
   "execution_count": 1,
   "id": "7283b973",
   "metadata": {
    "_cell_guid": "b1076dfc-b9ad-4769-8c92-a6c4dae69d19",
    "_uuid": "8f2839f25d086af736a60e9eeb907d3b93b6e0e5",
    "execution": {
     "iopub.execute_input": "2022-11-20T15:33:37.532017Z",
     "iopub.status.busy": "2022-11-20T15:33:37.531556Z",
     "iopub.status.idle": "2022-11-20T15:33:37.548444Z",
     "shell.execute_reply": "2022-11-20T15:33:37.547470Z"
    },
    "papermill": {
     "duration": 0.029884,
     "end_time": "2022-11-20T15:33:37.550782",
     "exception": false,
     "start_time": "2022-11-20T15:33:37.520898",
     "status": "completed"
    },
    "tags": []
   },
   "outputs": [
    {
     "name": "stdout",
     "output_type": "stream",
     "text": [
      "/kaggle/input/heartbeat/ptbdb_abnormal.csv\n",
      "/kaggle/input/heartbeat/ptbdb_normal.csv\n",
      "/kaggle/input/heartbeat/mitbih_test.csv\n",
      "/kaggle/input/heartbeat/mitbih_train.csv\n"
     ]
    }
   ],
   "source": [
    "# This Python 3 environment comes with many helpful analytics libraries installed\n",
    "# It is defined by the kaggle/python Docker image: https://github.com/kaggle/docker-python\n",
    "# For example, here's several helpful packages to load\n",
    "\n",
    "import numpy as np # linear algebra\n",
    "import pandas as pd # data processing, CSV file I/O (e.g. pd.read_csv)\n",
    "\n",
    "# Input data files are available in the read-only \"../input/\" directory\n",
    "# For example, running this (by clicking run or pressing Shift+Enter) will list all files under the input directory\n",
    "\n",
    "import os\n",
    "for dirname, _, filenames in os.walk('/kaggle/input'):\n",
    "    for filename in filenames:\n",
    "        print(os.path.join(dirname, filename))\n",
    "\n",
    "# You can write up to 20GB to the current directory (/kaggle/working/) that gets preserved as output when you create a version using \"Save & Run All\" \n",
    "# You can also write temporary files to /kaggle/temp/, but they won't be saved outside of the current session"
   ]
  },
  {
   "cell_type": "code",
   "execution_count": 2,
   "id": "7e736f26",
   "metadata": {
    "execution": {
     "iopub.execute_input": "2022-11-20T15:33:37.568161Z",
     "iopub.status.busy": "2022-11-20T15:33:37.567812Z",
     "iopub.status.idle": "2022-11-20T15:33:46.598896Z",
     "shell.execute_reply": "2022-11-20T15:33:46.597636Z"
    },
    "papermill": {
     "duration": 9.042485,
     "end_time": "2022-11-20T15:33:46.601424",
     "exception": false,
     "start_time": "2022-11-20T15:33:37.558939",
     "status": "completed"
    },
    "tags": []
   },
   "outputs": [],
   "source": [
    "df_train = pd.read_csv(\"/kaggle/input/heartbeat/mitbih_train.csv\", header=None)\n",
    "df_test = pd.read_csv(\"/kaggle/input/heartbeat/mitbih_test.csv\", header=None)"
   ]
  },
  {
   "cell_type": "code",
   "execution_count": 3,
   "id": "f92b7baa",
   "metadata": {
    "execution": {
     "iopub.execute_input": "2022-11-20T15:33:46.620606Z",
     "iopub.status.busy": "2022-11-20T15:33:46.620281Z",
     "iopub.status.idle": "2022-11-20T15:33:46.658916Z",
     "shell.execute_reply": "2022-11-20T15:33:46.657533Z"
    },
    "papermill": {
     "duration": 0.050576,
     "end_time": "2022-11-20T15:33:46.660892",
     "exception": false,
     "start_time": "2022-11-20T15:33:46.610316",
     "status": "completed"
    },
    "tags": []
   },
   "outputs": [
    {
     "data": {
      "text/html": [
       "<div>\n",
       "<style scoped>\n",
       "    .dataframe tbody tr th:only-of-type {\n",
       "        vertical-align: middle;\n",
       "    }\n",
       "\n",
       "    .dataframe tbody tr th {\n",
       "        vertical-align: top;\n",
       "    }\n",
       "\n",
       "    .dataframe thead th {\n",
       "        text-align: right;\n",
       "    }\n",
       "</style>\n",
       "<table border=\"1\" class=\"dataframe\">\n",
       "  <thead>\n",
       "    <tr style=\"text-align: right;\">\n",
       "      <th></th>\n",
       "      <th>0</th>\n",
       "      <th>1</th>\n",
       "      <th>2</th>\n",
       "      <th>3</th>\n",
       "      <th>4</th>\n",
       "      <th>5</th>\n",
       "      <th>6</th>\n",
       "      <th>7</th>\n",
       "      <th>8</th>\n",
       "      <th>9</th>\n",
       "      <th>...</th>\n",
       "      <th>178</th>\n",
       "      <th>179</th>\n",
       "      <th>180</th>\n",
       "      <th>181</th>\n",
       "      <th>182</th>\n",
       "      <th>183</th>\n",
       "      <th>184</th>\n",
       "      <th>185</th>\n",
       "      <th>186</th>\n",
       "      <th>187</th>\n",
       "    </tr>\n",
       "  </thead>\n",
       "  <tbody>\n",
       "    <tr>\n",
       "      <th>87549</th>\n",
       "      <td>0.807018</td>\n",
       "      <td>0.494737</td>\n",
       "      <td>0.536842</td>\n",
       "      <td>0.529825</td>\n",
       "      <td>0.491228</td>\n",
       "      <td>0.484211</td>\n",
       "      <td>0.456140</td>\n",
       "      <td>0.396491</td>\n",
       "      <td>0.284211</td>\n",
       "      <td>0.136842</td>\n",
       "      <td>...</td>\n",
       "      <td>0.0</td>\n",
       "      <td>0.0</td>\n",
       "      <td>0.0</td>\n",
       "      <td>0.0</td>\n",
       "      <td>0.0</td>\n",
       "      <td>0.0</td>\n",
       "      <td>0.0</td>\n",
       "      <td>0.0</td>\n",
       "      <td>0.0</td>\n",
       "      <td>4.0</td>\n",
       "    </tr>\n",
       "    <tr>\n",
       "      <th>87550</th>\n",
       "      <td>0.718333</td>\n",
       "      <td>0.605000</td>\n",
       "      <td>0.486667</td>\n",
       "      <td>0.361667</td>\n",
       "      <td>0.231667</td>\n",
       "      <td>0.120000</td>\n",
       "      <td>0.051667</td>\n",
       "      <td>0.001667</td>\n",
       "      <td>0.000000</td>\n",
       "      <td>0.013333</td>\n",
       "      <td>...</td>\n",
       "      <td>0.0</td>\n",
       "      <td>0.0</td>\n",
       "      <td>0.0</td>\n",
       "      <td>0.0</td>\n",
       "      <td>0.0</td>\n",
       "      <td>0.0</td>\n",
       "      <td>0.0</td>\n",
       "      <td>0.0</td>\n",
       "      <td>0.0</td>\n",
       "      <td>4.0</td>\n",
       "    </tr>\n",
       "    <tr>\n",
       "      <th>87551</th>\n",
       "      <td>0.906122</td>\n",
       "      <td>0.624490</td>\n",
       "      <td>0.595918</td>\n",
       "      <td>0.575510</td>\n",
       "      <td>0.530612</td>\n",
       "      <td>0.481633</td>\n",
       "      <td>0.444898</td>\n",
       "      <td>0.387755</td>\n",
       "      <td>0.322449</td>\n",
       "      <td>0.191837</td>\n",
       "      <td>...</td>\n",
       "      <td>0.0</td>\n",
       "      <td>0.0</td>\n",
       "      <td>0.0</td>\n",
       "      <td>0.0</td>\n",
       "      <td>0.0</td>\n",
       "      <td>0.0</td>\n",
       "      <td>0.0</td>\n",
       "      <td>0.0</td>\n",
       "      <td>0.0</td>\n",
       "      <td>4.0</td>\n",
       "    </tr>\n",
       "    <tr>\n",
       "      <th>87552</th>\n",
       "      <td>0.858228</td>\n",
       "      <td>0.645570</td>\n",
       "      <td>0.845570</td>\n",
       "      <td>0.248101</td>\n",
       "      <td>0.167089</td>\n",
       "      <td>0.131646</td>\n",
       "      <td>0.121519</td>\n",
       "      <td>0.121519</td>\n",
       "      <td>0.118987</td>\n",
       "      <td>0.103797</td>\n",
       "      <td>...</td>\n",
       "      <td>0.0</td>\n",
       "      <td>0.0</td>\n",
       "      <td>0.0</td>\n",
       "      <td>0.0</td>\n",
       "      <td>0.0</td>\n",
       "      <td>0.0</td>\n",
       "      <td>0.0</td>\n",
       "      <td>0.0</td>\n",
       "      <td>0.0</td>\n",
       "      <td>4.0</td>\n",
       "    </tr>\n",
       "    <tr>\n",
       "      <th>87553</th>\n",
       "      <td>0.901506</td>\n",
       "      <td>0.845886</td>\n",
       "      <td>0.800695</td>\n",
       "      <td>0.748552</td>\n",
       "      <td>0.687138</td>\n",
       "      <td>0.599073</td>\n",
       "      <td>0.512167</td>\n",
       "      <td>0.427578</td>\n",
       "      <td>0.395133</td>\n",
       "      <td>0.402086</td>\n",
       "      <td>...</td>\n",
       "      <td>0.0</td>\n",
       "      <td>0.0</td>\n",
       "      <td>0.0</td>\n",
       "      <td>0.0</td>\n",
       "      <td>0.0</td>\n",
       "      <td>0.0</td>\n",
       "      <td>0.0</td>\n",
       "      <td>0.0</td>\n",
       "      <td>0.0</td>\n",
       "      <td>4.0</td>\n",
       "    </tr>\n",
       "  </tbody>\n",
       "</table>\n",
       "<p>5 rows × 188 columns</p>\n",
       "</div>"
      ],
      "text/plain": [
       "            0         1         2         3         4         5         6    \\\n",
       "87549  0.807018  0.494737  0.536842  0.529825  0.491228  0.484211  0.456140   \n",
       "87550  0.718333  0.605000  0.486667  0.361667  0.231667  0.120000  0.051667   \n",
       "87551  0.906122  0.624490  0.595918  0.575510  0.530612  0.481633  0.444898   \n",
       "87552  0.858228  0.645570  0.845570  0.248101  0.167089  0.131646  0.121519   \n",
       "87553  0.901506  0.845886  0.800695  0.748552  0.687138  0.599073  0.512167   \n",
       "\n",
       "            7         8         9    ...  178  179  180  181  182  183  184  \\\n",
       "87549  0.396491  0.284211  0.136842  ...  0.0  0.0  0.0  0.0  0.0  0.0  0.0   \n",
       "87550  0.001667  0.000000  0.013333  ...  0.0  0.0  0.0  0.0  0.0  0.0  0.0   \n",
       "87551  0.387755  0.322449  0.191837  ...  0.0  0.0  0.0  0.0  0.0  0.0  0.0   \n",
       "87552  0.121519  0.118987  0.103797  ...  0.0  0.0  0.0  0.0  0.0  0.0  0.0   \n",
       "87553  0.427578  0.395133  0.402086  ...  0.0  0.0  0.0  0.0  0.0  0.0  0.0   \n",
       "\n",
       "       185  186  187  \n",
       "87549  0.0  0.0  4.0  \n",
       "87550  0.0  0.0  4.0  \n",
       "87551  0.0  0.0  4.0  \n",
       "87552  0.0  0.0  4.0  \n",
       "87553  0.0  0.0  4.0  \n",
       "\n",
       "[5 rows x 188 columns]"
      ]
     },
     "execution_count": 3,
     "metadata": {},
     "output_type": "execute_result"
    }
   ],
   "source": [
    "df_train.tail(5)"
   ]
  },
  {
   "cell_type": "code",
   "execution_count": 4,
   "id": "9fe769fb",
   "metadata": {
    "execution": {
     "iopub.execute_input": "2022-11-20T15:33:46.682791Z",
     "iopub.status.busy": "2022-11-20T15:33:46.680965Z",
     "iopub.status.idle": "2022-11-20T15:33:46.705727Z",
     "shell.execute_reply": "2022-11-20T15:33:46.704268Z"
    },
    "papermill": {
     "duration": 0.038094,
     "end_time": "2022-11-20T15:33:46.707655",
     "exception": false,
     "start_time": "2022-11-20T15:33:46.669561",
     "status": "completed"
    },
    "tags": []
   },
   "outputs": [
    {
     "data": {
      "text/html": [
       "<div>\n",
       "<style scoped>\n",
       "    .dataframe tbody tr th:only-of-type {\n",
       "        vertical-align: middle;\n",
       "    }\n",
       "\n",
       "    .dataframe tbody tr th {\n",
       "        vertical-align: top;\n",
       "    }\n",
       "\n",
       "    .dataframe thead th {\n",
       "        text-align: right;\n",
       "    }\n",
       "</style>\n",
       "<table border=\"1\" class=\"dataframe\">\n",
       "  <thead>\n",
       "    <tr style=\"text-align: right;\">\n",
       "      <th></th>\n",
       "      <th>0</th>\n",
       "      <th>1</th>\n",
       "      <th>2</th>\n",
       "      <th>3</th>\n",
       "      <th>4</th>\n",
       "      <th>5</th>\n",
       "      <th>6</th>\n",
       "      <th>7</th>\n",
       "      <th>8</th>\n",
       "      <th>9</th>\n",
       "      <th>...</th>\n",
       "      <th>178</th>\n",
       "      <th>179</th>\n",
       "      <th>180</th>\n",
       "      <th>181</th>\n",
       "      <th>182</th>\n",
       "      <th>183</th>\n",
       "      <th>184</th>\n",
       "      <th>185</th>\n",
       "      <th>186</th>\n",
       "      <th>187</th>\n",
       "    </tr>\n",
       "  </thead>\n",
       "  <tbody>\n",
       "    <tr>\n",
       "      <th>21887</th>\n",
       "      <td>0.928736</td>\n",
       "      <td>0.871264</td>\n",
       "      <td>0.804598</td>\n",
       "      <td>0.742529</td>\n",
       "      <td>0.650575</td>\n",
       "      <td>0.535632</td>\n",
       "      <td>0.394253</td>\n",
       "      <td>0.250575</td>\n",
       "      <td>0.140230</td>\n",
       "      <td>0.102299</td>\n",
       "      <td>...</td>\n",
       "      <td>0.0</td>\n",
       "      <td>0.0</td>\n",
       "      <td>0.0</td>\n",
       "      <td>0.0</td>\n",
       "      <td>0.0</td>\n",
       "      <td>0.0</td>\n",
       "      <td>0.0</td>\n",
       "      <td>0.0</td>\n",
       "      <td>0.0</td>\n",
       "      <td>4.0</td>\n",
       "    </tr>\n",
       "    <tr>\n",
       "      <th>21888</th>\n",
       "      <td>0.802691</td>\n",
       "      <td>0.692078</td>\n",
       "      <td>0.587444</td>\n",
       "      <td>0.446936</td>\n",
       "      <td>0.318386</td>\n",
       "      <td>0.189836</td>\n",
       "      <td>0.118087</td>\n",
       "      <td>0.077728</td>\n",
       "      <td>0.112108</td>\n",
       "      <td>0.152466</td>\n",
       "      <td>...</td>\n",
       "      <td>0.0</td>\n",
       "      <td>0.0</td>\n",
       "      <td>0.0</td>\n",
       "      <td>0.0</td>\n",
       "      <td>0.0</td>\n",
       "      <td>0.0</td>\n",
       "      <td>0.0</td>\n",
       "      <td>0.0</td>\n",
       "      <td>0.0</td>\n",
       "      <td>4.0</td>\n",
       "    </tr>\n",
       "    <tr>\n",
       "      <th>21889</th>\n",
       "      <td>1.000000</td>\n",
       "      <td>0.967359</td>\n",
       "      <td>0.620178</td>\n",
       "      <td>0.347181</td>\n",
       "      <td>0.139466</td>\n",
       "      <td>0.089021</td>\n",
       "      <td>0.103858</td>\n",
       "      <td>0.100890</td>\n",
       "      <td>0.106825</td>\n",
       "      <td>0.100890</td>\n",
       "      <td>...</td>\n",
       "      <td>0.0</td>\n",
       "      <td>0.0</td>\n",
       "      <td>0.0</td>\n",
       "      <td>0.0</td>\n",
       "      <td>0.0</td>\n",
       "      <td>0.0</td>\n",
       "      <td>0.0</td>\n",
       "      <td>0.0</td>\n",
       "      <td>0.0</td>\n",
       "      <td>4.0</td>\n",
       "    </tr>\n",
       "    <tr>\n",
       "      <th>21890</th>\n",
       "      <td>0.984127</td>\n",
       "      <td>0.567460</td>\n",
       "      <td>0.607143</td>\n",
       "      <td>0.583333</td>\n",
       "      <td>0.607143</td>\n",
       "      <td>0.575397</td>\n",
       "      <td>0.575397</td>\n",
       "      <td>0.488095</td>\n",
       "      <td>0.392857</td>\n",
       "      <td>0.238095</td>\n",
       "      <td>...</td>\n",
       "      <td>0.0</td>\n",
       "      <td>0.0</td>\n",
       "      <td>0.0</td>\n",
       "      <td>0.0</td>\n",
       "      <td>0.0</td>\n",
       "      <td>0.0</td>\n",
       "      <td>0.0</td>\n",
       "      <td>0.0</td>\n",
       "      <td>0.0</td>\n",
       "      <td>4.0</td>\n",
       "    </tr>\n",
       "    <tr>\n",
       "      <th>21891</th>\n",
       "      <td>0.973970</td>\n",
       "      <td>0.913232</td>\n",
       "      <td>0.865510</td>\n",
       "      <td>0.823210</td>\n",
       "      <td>0.746204</td>\n",
       "      <td>0.642082</td>\n",
       "      <td>0.547722</td>\n",
       "      <td>0.426247</td>\n",
       "      <td>0.325380</td>\n",
       "      <td>0.279826</td>\n",
       "      <td>...</td>\n",
       "      <td>0.0</td>\n",
       "      <td>0.0</td>\n",
       "      <td>0.0</td>\n",
       "      <td>0.0</td>\n",
       "      <td>0.0</td>\n",
       "      <td>0.0</td>\n",
       "      <td>0.0</td>\n",
       "      <td>0.0</td>\n",
       "      <td>0.0</td>\n",
       "      <td>4.0</td>\n",
       "    </tr>\n",
       "  </tbody>\n",
       "</table>\n",
       "<p>5 rows × 188 columns</p>\n",
       "</div>"
      ],
      "text/plain": [
       "            0         1         2         3         4         5         6    \\\n",
       "21887  0.928736  0.871264  0.804598  0.742529  0.650575  0.535632  0.394253   \n",
       "21888  0.802691  0.692078  0.587444  0.446936  0.318386  0.189836  0.118087   \n",
       "21889  1.000000  0.967359  0.620178  0.347181  0.139466  0.089021  0.103858   \n",
       "21890  0.984127  0.567460  0.607143  0.583333  0.607143  0.575397  0.575397   \n",
       "21891  0.973970  0.913232  0.865510  0.823210  0.746204  0.642082  0.547722   \n",
       "\n",
       "            7         8         9    ...  178  179  180  181  182  183  184  \\\n",
       "21887  0.250575  0.140230  0.102299  ...  0.0  0.0  0.0  0.0  0.0  0.0  0.0   \n",
       "21888  0.077728  0.112108  0.152466  ...  0.0  0.0  0.0  0.0  0.0  0.0  0.0   \n",
       "21889  0.100890  0.106825  0.100890  ...  0.0  0.0  0.0  0.0  0.0  0.0  0.0   \n",
       "21890  0.488095  0.392857  0.238095  ...  0.0  0.0  0.0  0.0  0.0  0.0  0.0   \n",
       "21891  0.426247  0.325380  0.279826  ...  0.0  0.0  0.0  0.0  0.0  0.0  0.0   \n",
       "\n",
       "       185  186  187  \n",
       "21887  0.0  0.0  4.0  \n",
       "21888  0.0  0.0  4.0  \n",
       "21889  0.0  0.0  4.0  \n",
       "21890  0.0  0.0  4.0  \n",
       "21891  0.0  0.0  4.0  \n",
       "\n",
       "[5 rows x 188 columns]"
      ]
     },
     "execution_count": 4,
     "metadata": {},
     "output_type": "execute_result"
    }
   ],
   "source": [
    "df_test.tail(5)"
   ]
  },
  {
   "cell_type": "code",
   "execution_count": 5,
   "id": "2175e788",
   "metadata": {
    "execution": {
     "iopub.execute_input": "2022-11-20T15:33:46.726222Z",
     "iopub.status.busy": "2022-11-20T15:33:46.725782Z",
     "iopub.status.idle": "2022-11-20T15:33:46.732346Z",
     "shell.execute_reply": "2022-11-20T15:33:46.731476Z"
    },
    "papermill": {
     "duration": 0.017911,
     "end_time": "2022-11-20T15:33:46.734065",
     "exception": false,
     "start_time": "2022-11-20T15:33:46.716154",
     "status": "completed"
    },
    "tags": []
   },
   "outputs": [
    {
     "data": {
      "text/plain": [
       "(87554, 188)"
      ]
     },
     "execution_count": 5,
     "metadata": {},
     "output_type": "execute_result"
    }
   ],
   "source": [
    "df_train.shape"
   ]
  },
  {
   "cell_type": "code",
   "execution_count": 6,
   "id": "e392cf2a",
   "metadata": {
    "execution": {
     "iopub.execute_input": "2022-11-20T15:33:46.753512Z",
     "iopub.status.busy": "2022-11-20T15:33:46.752866Z",
     "iopub.status.idle": "2022-11-20T15:33:46.759557Z",
     "shell.execute_reply": "2022-11-20T15:33:46.758306Z"
    },
    "papermill": {
     "duration": 0.018883,
     "end_time": "2022-11-20T15:33:46.761880",
     "exception": false,
     "start_time": "2022-11-20T15:33:46.742997",
     "status": "completed"
    },
    "tags": []
   },
   "outputs": [
    {
     "data": {
      "text/plain": [
       "(21892, 188)"
      ]
     },
     "execution_count": 6,
     "metadata": {},
     "output_type": "execute_result"
    }
   ],
   "source": [
    "df_test.shape"
   ]
  },
  {
   "cell_type": "code",
   "execution_count": 7,
   "id": "5f2ddd5e",
   "metadata": {
    "execution": {
     "iopub.execute_input": "2022-11-20T15:33:46.780063Z",
     "iopub.status.busy": "2022-11-20T15:33:46.779752Z",
     "iopub.status.idle": "2022-11-20T15:33:46.820542Z",
     "shell.execute_reply": "2022-11-20T15:33:46.819820Z"
    },
    "papermill": {
     "duration": 0.052197,
     "end_time": "2022-11-20T15:33:46.822787",
     "exception": false,
     "start_time": "2022-11-20T15:33:46.770590",
     "status": "completed"
    },
    "tags": []
   },
   "outputs": [],
   "source": [
    "df= pd.concat([df_train,df_test],ignore_index=True,sort=False)"
   ]
  },
  {
   "cell_type": "code",
   "execution_count": 8,
   "id": "c7d75efb",
   "metadata": {
    "execution": {
     "iopub.execute_input": "2022-11-20T15:33:46.843673Z",
     "iopub.status.busy": "2022-11-20T15:33:46.842270Z",
     "iopub.status.idle": "2022-11-20T15:33:46.878761Z",
     "shell.execute_reply": "2022-11-20T15:33:46.877198Z"
    },
    "papermill": {
     "duration": 0.049635,
     "end_time": "2022-11-20T15:33:46.881555",
     "exception": false,
     "start_time": "2022-11-20T15:33:46.831920",
     "status": "completed"
    },
    "tags": []
   },
   "outputs": [
    {
     "data": {
      "text/html": [
       "<div>\n",
       "<style scoped>\n",
       "    .dataframe tbody tr th:only-of-type {\n",
       "        vertical-align: middle;\n",
       "    }\n",
       "\n",
       "    .dataframe tbody tr th {\n",
       "        vertical-align: top;\n",
       "    }\n",
       "\n",
       "    .dataframe thead th {\n",
       "        text-align: right;\n",
       "    }\n",
       "</style>\n",
       "<table border=\"1\" class=\"dataframe\">\n",
       "  <thead>\n",
       "    <tr style=\"text-align: right;\">\n",
       "      <th></th>\n",
       "      <th>0</th>\n",
       "      <th>1</th>\n",
       "      <th>2</th>\n",
       "      <th>3</th>\n",
       "      <th>4</th>\n",
       "      <th>5</th>\n",
       "      <th>6</th>\n",
       "      <th>7</th>\n",
       "      <th>8</th>\n",
       "      <th>9</th>\n",
       "      <th>...</th>\n",
       "      <th>178</th>\n",
       "      <th>179</th>\n",
       "      <th>180</th>\n",
       "      <th>181</th>\n",
       "      <th>182</th>\n",
       "      <th>183</th>\n",
       "      <th>184</th>\n",
       "      <th>185</th>\n",
       "      <th>186</th>\n",
       "      <th>187</th>\n",
       "    </tr>\n",
       "  </thead>\n",
       "  <tbody>\n",
       "    <tr>\n",
       "      <th>0</th>\n",
       "      <td>0.977941</td>\n",
       "      <td>0.926471</td>\n",
       "      <td>0.681373</td>\n",
       "      <td>0.245098</td>\n",
       "      <td>0.154412</td>\n",
       "      <td>0.191176</td>\n",
       "      <td>0.151961</td>\n",
       "      <td>0.085784</td>\n",
       "      <td>0.058824</td>\n",
       "      <td>0.049020</td>\n",
       "      <td>...</td>\n",
       "      <td>0.0</td>\n",
       "      <td>0.0</td>\n",
       "      <td>0.0</td>\n",
       "      <td>0.0</td>\n",
       "      <td>0.0</td>\n",
       "      <td>0.0</td>\n",
       "      <td>0.0</td>\n",
       "      <td>0.0</td>\n",
       "      <td>0.0</td>\n",
       "      <td>0.0</td>\n",
       "    </tr>\n",
       "    <tr>\n",
       "      <th>1</th>\n",
       "      <td>0.960114</td>\n",
       "      <td>0.863248</td>\n",
       "      <td>0.461538</td>\n",
       "      <td>0.196581</td>\n",
       "      <td>0.094017</td>\n",
       "      <td>0.125356</td>\n",
       "      <td>0.099715</td>\n",
       "      <td>0.088319</td>\n",
       "      <td>0.074074</td>\n",
       "      <td>0.082621</td>\n",
       "      <td>...</td>\n",
       "      <td>0.0</td>\n",
       "      <td>0.0</td>\n",
       "      <td>0.0</td>\n",
       "      <td>0.0</td>\n",
       "      <td>0.0</td>\n",
       "      <td>0.0</td>\n",
       "      <td>0.0</td>\n",
       "      <td>0.0</td>\n",
       "      <td>0.0</td>\n",
       "      <td>0.0</td>\n",
       "    </tr>\n",
       "    <tr>\n",
       "      <th>2</th>\n",
       "      <td>1.000000</td>\n",
       "      <td>0.659459</td>\n",
       "      <td>0.186486</td>\n",
       "      <td>0.070270</td>\n",
       "      <td>0.070270</td>\n",
       "      <td>0.059459</td>\n",
       "      <td>0.056757</td>\n",
       "      <td>0.043243</td>\n",
       "      <td>0.054054</td>\n",
       "      <td>0.045946</td>\n",
       "      <td>...</td>\n",
       "      <td>0.0</td>\n",
       "      <td>0.0</td>\n",
       "      <td>0.0</td>\n",
       "      <td>0.0</td>\n",
       "      <td>0.0</td>\n",
       "      <td>0.0</td>\n",
       "      <td>0.0</td>\n",
       "      <td>0.0</td>\n",
       "      <td>0.0</td>\n",
       "      <td>0.0</td>\n",
       "    </tr>\n",
       "    <tr>\n",
       "      <th>3</th>\n",
       "      <td>0.925414</td>\n",
       "      <td>0.665746</td>\n",
       "      <td>0.541436</td>\n",
       "      <td>0.276243</td>\n",
       "      <td>0.196133</td>\n",
       "      <td>0.077348</td>\n",
       "      <td>0.071823</td>\n",
       "      <td>0.060773</td>\n",
       "      <td>0.066298</td>\n",
       "      <td>0.058011</td>\n",
       "      <td>...</td>\n",
       "      <td>0.0</td>\n",
       "      <td>0.0</td>\n",
       "      <td>0.0</td>\n",
       "      <td>0.0</td>\n",
       "      <td>0.0</td>\n",
       "      <td>0.0</td>\n",
       "      <td>0.0</td>\n",
       "      <td>0.0</td>\n",
       "      <td>0.0</td>\n",
       "      <td>0.0</td>\n",
       "    </tr>\n",
       "    <tr>\n",
       "      <th>4</th>\n",
       "      <td>0.967136</td>\n",
       "      <td>1.000000</td>\n",
       "      <td>0.830986</td>\n",
       "      <td>0.586854</td>\n",
       "      <td>0.356808</td>\n",
       "      <td>0.248826</td>\n",
       "      <td>0.145540</td>\n",
       "      <td>0.089202</td>\n",
       "      <td>0.117371</td>\n",
       "      <td>0.150235</td>\n",
       "      <td>...</td>\n",
       "      <td>0.0</td>\n",
       "      <td>0.0</td>\n",
       "      <td>0.0</td>\n",
       "      <td>0.0</td>\n",
       "      <td>0.0</td>\n",
       "      <td>0.0</td>\n",
       "      <td>0.0</td>\n",
       "      <td>0.0</td>\n",
       "      <td>0.0</td>\n",
       "      <td>0.0</td>\n",
       "    </tr>\n",
       "    <tr>\n",
       "      <th>...</th>\n",
       "      <td>...</td>\n",
       "      <td>...</td>\n",
       "      <td>...</td>\n",
       "      <td>...</td>\n",
       "      <td>...</td>\n",
       "      <td>...</td>\n",
       "      <td>...</td>\n",
       "      <td>...</td>\n",
       "      <td>...</td>\n",
       "      <td>...</td>\n",
       "      <td>...</td>\n",
       "      <td>...</td>\n",
       "      <td>...</td>\n",
       "      <td>...</td>\n",
       "      <td>...</td>\n",
       "      <td>...</td>\n",
       "      <td>...</td>\n",
       "      <td>...</td>\n",
       "      <td>...</td>\n",
       "      <td>...</td>\n",
       "      <td>...</td>\n",
       "    </tr>\n",
       "    <tr>\n",
       "      <th>109441</th>\n",
       "      <td>0.928736</td>\n",
       "      <td>0.871264</td>\n",
       "      <td>0.804598</td>\n",
       "      <td>0.742529</td>\n",
       "      <td>0.650575</td>\n",
       "      <td>0.535632</td>\n",
       "      <td>0.394253</td>\n",
       "      <td>0.250575</td>\n",
       "      <td>0.140230</td>\n",
       "      <td>0.102299</td>\n",
       "      <td>...</td>\n",
       "      <td>0.0</td>\n",
       "      <td>0.0</td>\n",
       "      <td>0.0</td>\n",
       "      <td>0.0</td>\n",
       "      <td>0.0</td>\n",
       "      <td>0.0</td>\n",
       "      <td>0.0</td>\n",
       "      <td>0.0</td>\n",
       "      <td>0.0</td>\n",
       "      <td>4.0</td>\n",
       "    </tr>\n",
       "    <tr>\n",
       "      <th>109442</th>\n",
       "      <td>0.802691</td>\n",
       "      <td>0.692078</td>\n",
       "      <td>0.587444</td>\n",
       "      <td>0.446936</td>\n",
       "      <td>0.318386</td>\n",
       "      <td>0.189836</td>\n",
       "      <td>0.118087</td>\n",
       "      <td>0.077728</td>\n",
       "      <td>0.112108</td>\n",
       "      <td>0.152466</td>\n",
       "      <td>...</td>\n",
       "      <td>0.0</td>\n",
       "      <td>0.0</td>\n",
       "      <td>0.0</td>\n",
       "      <td>0.0</td>\n",
       "      <td>0.0</td>\n",
       "      <td>0.0</td>\n",
       "      <td>0.0</td>\n",
       "      <td>0.0</td>\n",
       "      <td>0.0</td>\n",
       "      <td>4.0</td>\n",
       "    </tr>\n",
       "    <tr>\n",
       "      <th>109443</th>\n",
       "      <td>1.000000</td>\n",
       "      <td>0.967359</td>\n",
       "      <td>0.620178</td>\n",
       "      <td>0.347181</td>\n",
       "      <td>0.139466</td>\n",
       "      <td>0.089021</td>\n",
       "      <td>0.103858</td>\n",
       "      <td>0.100890</td>\n",
       "      <td>0.106825</td>\n",
       "      <td>0.100890</td>\n",
       "      <td>...</td>\n",
       "      <td>0.0</td>\n",
       "      <td>0.0</td>\n",
       "      <td>0.0</td>\n",
       "      <td>0.0</td>\n",
       "      <td>0.0</td>\n",
       "      <td>0.0</td>\n",
       "      <td>0.0</td>\n",
       "      <td>0.0</td>\n",
       "      <td>0.0</td>\n",
       "      <td>4.0</td>\n",
       "    </tr>\n",
       "    <tr>\n",
       "      <th>109444</th>\n",
       "      <td>0.984127</td>\n",
       "      <td>0.567460</td>\n",
       "      <td>0.607143</td>\n",
       "      <td>0.583333</td>\n",
       "      <td>0.607143</td>\n",
       "      <td>0.575397</td>\n",
       "      <td>0.575397</td>\n",
       "      <td>0.488095</td>\n",
       "      <td>0.392857</td>\n",
       "      <td>0.238095</td>\n",
       "      <td>...</td>\n",
       "      <td>0.0</td>\n",
       "      <td>0.0</td>\n",
       "      <td>0.0</td>\n",
       "      <td>0.0</td>\n",
       "      <td>0.0</td>\n",
       "      <td>0.0</td>\n",
       "      <td>0.0</td>\n",
       "      <td>0.0</td>\n",
       "      <td>0.0</td>\n",
       "      <td>4.0</td>\n",
       "    </tr>\n",
       "    <tr>\n",
       "      <th>109445</th>\n",
       "      <td>0.973970</td>\n",
       "      <td>0.913232</td>\n",
       "      <td>0.865510</td>\n",
       "      <td>0.823210</td>\n",
       "      <td>0.746204</td>\n",
       "      <td>0.642082</td>\n",
       "      <td>0.547722</td>\n",
       "      <td>0.426247</td>\n",
       "      <td>0.325380</td>\n",
       "      <td>0.279826</td>\n",
       "      <td>...</td>\n",
       "      <td>0.0</td>\n",
       "      <td>0.0</td>\n",
       "      <td>0.0</td>\n",
       "      <td>0.0</td>\n",
       "      <td>0.0</td>\n",
       "      <td>0.0</td>\n",
       "      <td>0.0</td>\n",
       "      <td>0.0</td>\n",
       "      <td>0.0</td>\n",
       "      <td>4.0</td>\n",
       "    </tr>\n",
       "  </tbody>\n",
       "</table>\n",
       "<p>109446 rows × 188 columns</p>\n",
       "</div>"
      ],
      "text/plain": [
       "             0         1         2         3         4         5         6    \\\n",
       "0       0.977941  0.926471  0.681373  0.245098  0.154412  0.191176  0.151961   \n",
       "1       0.960114  0.863248  0.461538  0.196581  0.094017  0.125356  0.099715   \n",
       "2       1.000000  0.659459  0.186486  0.070270  0.070270  0.059459  0.056757   \n",
       "3       0.925414  0.665746  0.541436  0.276243  0.196133  0.077348  0.071823   \n",
       "4       0.967136  1.000000  0.830986  0.586854  0.356808  0.248826  0.145540   \n",
       "...          ...       ...       ...       ...       ...       ...       ...   \n",
       "109441  0.928736  0.871264  0.804598  0.742529  0.650575  0.535632  0.394253   \n",
       "109442  0.802691  0.692078  0.587444  0.446936  0.318386  0.189836  0.118087   \n",
       "109443  1.000000  0.967359  0.620178  0.347181  0.139466  0.089021  0.103858   \n",
       "109444  0.984127  0.567460  0.607143  0.583333  0.607143  0.575397  0.575397   \n",
       "109445  0.973970  0.913232  0.865510  0.823210  0.746204  0.642082  0.547722   \n",
       "\n",
       "             7         8         9    ...  178  179  180  181  182  183  184  \\\n",
       "0       0.085784  0.058824  0.049020  ...  0.0  0.0  0.0  0.0  0.0  0.0  0.0   \n",
       "1       0.088319  0.074074  0.082621  ...  0.0  0.0  0.0  0.0  0.0  0.0  0.0   \n",
       "2       0.043243  0.054054  0.045946  ...  0.0  0.0  0.0  0.0  0.0  0.0  0.0   \n",
       "3       0.060773  0.066298  0.058011  ...  0.0  0.0  0.0  0.0  0.0  0.0  0.0   \n",
       "4       0.089202  0.117371  0.150235  ...  0.0  0.0  0.0  0.0  0.0  0.0  0.0   \n",
       "...          ...       ...       ...  ...  ...  ...  ...  ...  ...  ...  ...   \n",
       "109441  0.250575  0.140230  0.102299  ...  0.0  0.0  0.0  0.0  0.0  0.0  0.0   \n",
       "109442  0.077728  0.112108  0.152466  ...  0.0  0.0  0.0  0.0  0.0  0.0  0.0   \n",
       "109443  0.100890  0.106825  0.100890  ...  0.0  0.0  0.0  0.0  0.0  0.0  0.0   \n",
       "109444  0.488095  0.392857  0.238095  ...  0.0  0.0  0.0  0.0  0.0  0.0  0.0   \n",
       "109445  0.426247  0.325380  0.279826  ...  0.0  0.0  0.0  0.0  0.0  0.0  0.0   \n",
       "\n",
       "        185  186  187  \n",
       "0       0.0  0.0  0.0  \n",
       "1       0.0  0.0  0.0  \n",
       "2       0.0  0.0  0.0  \n",
       "3       0.0  0.0  0.0  \n",
       "4       0.0  0.0  0.0  \n",
       "...     ...  ...  ...  \n",
       "109441  0.0  0.0  4.0  \n",
       "109442  0.0  0.0  4.0  \n",
       "109443  0.0  0.0  4.0  \n",
       "109444  0.0  0.0  4.0  \n",
       "109445  0.0  0.0  4.0  \n",
       "\n",
       "[109446 rows x 188 columns]"
      ]
     },
     "execution_count": 8,
     "metadata": {},
     "output_type": "execute_result"
    }
   ],
   "source": [
    "df"
   ]
  },
  {
   "cell_type": "code",
   "execution_count": 9,
   "id": "81ae2a73",
   "metadata": {
    "execution": {
     "iopub.execute_input": "2022-11-20T15:33:46.901282Z",
     "iopub.status.busy": "2022-11-20T15:33:46.900897Z",
     "iopub.status.idle": "2022-11-20T15:33:46.926243Z",
     "shell.execute_reply": "2022-11-20T15:33:46.925656Z"
    },
    "papermill": {
     "duration": 0.037616,
     "end_time": "2022-11-20T15:33:46.928330",
     "exception": false,
     "start_time": "2022-11-20T15:33:46.890714",
     "status": "completed"
    },
    "tags": []
   },
   "outputs": [
    {
     "name": "stdout",
     "output_type": "stream",
     "text": [
      "<class 'pandas.core.frame.DataFrame'>\n",
      "RangeIndex: 109446 entries, 0 to 109445\n",
      "Columns: 188 entries, 0 to 187\n",
      "dtypes: float64(188)\n",
      "memory usage: 157.0 MB\n"
     ]
    }
   ],
   "source": [
    "df.info()"
   ]
  },
  {
   "cell_type": "code",
   "execution_count": 10,
   "id": "d6c4ac73",
   "metadata": {
    "execution": {
     "iopub.execute_input": "2022-11-20T15:33:46.949495Z",
     "iopub.status.busy": "2022-11-20T15:33:46.948728Z",
     "iopub.status.idle": "2022-11-20T15:33:47.842697Z",
     "shell.execute_reply": "2022-11-20T15:33:47.840891Z"
    },
    "papermill": {
     "duration": 0.907046,
     "end_time": "2022-11-20T15:33:47.844850",
     "exception": false,
     "start_time": "2022-11-20T15:33:46.937804",
     "status": "completed"
    },
    "tags": []
   },
   "outputs": [
    {
     "data": {
      "text/html": [
       "<div>\n",
       "<style scoped>\n",
       "    .dataframe tbody tr th:only-of-type {\n",
       "        vertical-align: middle;\n",
       "    }\n",
       "\n",
       "    .dataframe tbody tr th {\n",
       "        vertical-align: top;\n",
       "    }\n",
       "\n",
       "    .dataframe thead th {\n",
       "        text-align: right;\n",
       "    }\n",
       "</style>\n",
       "<table border=\"1\" class=\"dataframe\">\n",
       "  <thead>\n",
       "    <tr style=\"text-align: right;\">\n",
       "      <th></th>\n",
       "      <th>0</th>\n",
       "      <th>1</th>\n",
       "      <th>2</th>\n",
       "      <th>3</th>\n",
       "      <th>4</th>\n",
       "      <th>5</th>\n",
       "      <th>6</th>\n",
       "      <th>7</th>\n",
       "      <th>8</th>\n",
       "      <th>9</th>\n",
       "      <th>...</th>\n",
       "      <th>178</th>\n",
       "      <th>179</th>\n",
       "      <th>180</th>\n",
       "      <th>181</th>\n",
       "      <th>182</th>\n",
       "      <th>183</th>\n",
       "      <th>184</th>\n",
       "      <th>185</th>\n",
       "      <th>186</th>\n",
       "      <th>187</th>\n",
       "    </tr>\n",
       "  </thead>\n",
       "  <tbody>\n",
       "    <tr>\n",
       "      <th>count</th>\n",
       "      <td>109446.000000</td>\n",
       "      <td>109446.000000</td>\n",
       "      <td>109446.000000</td>\n",
       "      <td>109446.000000</td>\n",
       "      <td>109446.000000</td>\n",
       "      <td>109446.000000</td>\n",
       "      <td>109446.000000</td>\n",
       "      <td>109446.000000</td>\n",
       "      <td>109446.000000</td>\n",
       "      <td>109446.000000</td>\n",
       "      <td>...</td>\n",
       "      <td>109446.000000</td>\n",
       "      <td>109446.000000</td>\n",
       "      <td>109446.000000</td>\n",
       "      <td>109446.000000</td>\n",
       "      <td>109446.000000</td>\n",
       "      <td>109446.000000</td>\n",
       "      <td>109446.000000</td>\n",
       "      <td>109446.000000</td>\n",
       "      <td>109446.000000</td>\n",
       "      <td>109446.000000</td>\n",
       "    </tr>\n",
       "    <tr>\n",
       "      <th>mean</th>\n",
       "      <td>0.891170</td>\n",
       "      <td>0.758909</td>\n",
       "      <td>0.424503</td>\n",
       "      <td>0.219602</td>\n",
       "      <td>0.201237</td>\n",
       "      <td>0.210298</td>\n",
       "      <td>0.205607</td>\n",
       "      <td>0.201617</td>\n",
       "      <td>0.198480</td>\n",
       "      <td>0.196610</td>\n",
       "      <td>...</td>\n",
       "      <td>0.004937</td>\n",
       "      <td>0.004568</td>\n",
       "      <td>0.004237</td>\n",
       "      <td>0.003914</td>\n",
       "      <td>0.003673</td>\n",
       "      <td>0.003469</td>\n",
       "      <td>0.003210</td>\n",
       "      <td>0.002956</td>\n",
       "      <td>0.002835</td>\n",
       "      <td>0.473439</td>\n",
       "    </tr>\n",
       "    <tr>\n",
       "      <th>std</th>\n",
       "      <td>0.239657</td>\n",
       "      <td>0.221190</td>\n",
       "      <td>0.227561</td>\n",
       "      <td>0.207248</td>\n",
       "      <td>0.177191</td>\n",
       "      <td>0.171965</td>\n",
       "      <td>0.178374</td>\n",
       "      <td>0.177020</td>\n",
       "      <td>0.171469</td>\n",
       "      <td>0.168028</td>\n",
       "      <td>...</td>\n",
       "      <td>0.043951</td>\n",
       "      <td>0.042109</td>\n",
       "      <td>0.040471</td>\n",
       "      <td>0.038801</td>\n",
       "      <td>0.037465</td>\n",
       "      <td>0.036552</td>\n",
       "      <td>0.035015</td>\n",
       "      <td>0.033413</td>\n",
       "      <td>0.032620</td>\n",
       "      <td>1.143232</td>\n",
       "    </tr>\n",
       "    <tr>\n",
       "      <th>min</th>\n",
       "      <td>0.000000</td>\n",
       "      <td>0.000000</td>\n",
       "      <td>0.000000</td>\n",
       "      <td>0.000000</td>\n",
       "      <td>0.000000</td>\n",
       "      <td>0.000000</td>\n",
       "      <td>0.000000</td>\n",
       "      <td>0.000000</td>\n",
       "      <td>0.000000</td>\n",
       "      <td>0.000000</td>\n",
       "      <td>...</td>\n",
       "      <td>0.000000</td>\n",
       "      <td>0.000000</td>\n",
       "      <td>0.000000</td>\n",
       "      <td>0.000000</td>\n",
       "      <td>0.000000</td>\n",
       "      <td>0.000000</td>\n",
       "      <td>0.000000</td>\n",
       "      <td>0.000000</td>\n",
       "      <td>0.000000</td>\n",
       "      <td>0.000000</td>\n",
       "    </tr>\n",
       "    <tr>\n",
       "      <th>25%</th>\n",
       "      <td>0.922252</td>\n",
       "      <td>0.682648</td>\n",
       "      <td>0.251014</td>\n",
       "      <td>0.048853</td>\n",
       "      <td>0.082418</td>\n",
       "      <td>0.088300</td>\n",
       "      <td>0.073171</td>\n",
       "      <td>0.066093</td>\n",
       "      <td>0.064893</td>\n",
       "      <td>0.068615</td>\n",
       "      <td>...</td>\n",
       "      <td>0.000000</td>\n",
       "      <td>0.000000</td>\n",
       "      <td>0.000000</td>\n",
       "      <td>0.000000</td>\n",
       "      <td>0.000000</td>\n",
       "      <td>0.000000</td>\n",
       "      <td>0.000000</td>\n",
       "      <td>0.000000</td>\n",
       "      <td>0.000000</td>\n",
       "      <td>0.000000</td>\n",
       "    </tr>\n",
       "    <tr>\n",
       "      <th>50%</th>\n",
       "      <td>0.991202</td>\n",
       "      <td>0.826560</td>\n",
       "      <td>0.430174</td>\n",
       "      <td>0.166355</td>\n",
       "      <td>0.147842</td>\n",
       "      <td>0.158640</td>\n",
       "      <td>0.145078</td>\n",
       "      <td>0.144465</td>\n",
       "      <td>0.150073</td>\n",
       "      <td>0.148849</td>\n",
       "      <td>...</td>\n",
       "      <td>0.000000</td>\n",
       "      <td>0.000000</td>\n",
       "      <td>0.000000</td>\n",
       "      <td>0.000000</td>\n",
       "      <td>0.000000</td>\n",
       "      <td>0.000000</td>\n",
       "      <td>0.000000</td>\n",
       "      <td>0.000000</td>\n",
       "      <td>0.000000</td>\n",
       "      <td>0.000000</td>\n",
       "    </tr>\n",
       "    <tr>\n",
       "      <th>75%</th>\n",
       "      <td>1.000000</td>\n",
       "      <td>0.910868</td>\n",
       "      <td>0.579832</td>\n",
       "      <td>0.342707</td>\n",
       "      <td>0.259045</td>\n",
       "      <td>0.287500</td>\n",
       "      <td>0.298343</td>\n",
       "      <td>0.295235</td>\n",
       "      <td>0.290623</td>\n",
       "      <td>0.283465</td>\n",
       "      <td>...</td>\n",
       "      <td>0.000000</td>\n",
       "      <td>0.000000</td>\n",
       "      <td>0.000000</td>\n",
       "      <td>0.000000</td>\n",
       "      <td>0.000000</td>\n",
       "      <td>0.000000</td>\n",
       "      <td>0.000000</td>\n",
       "      <td>0.000000</td>\n",
       "      <td>0.000000</td>\n",
       "      <td>0.000000</td>\n",
       "    </tr>\n",
       "    <tr>\n",
       "      <th>max</th>\n",
       "      <td>1.000000</td>\n",
       "      <td>1.000000</td>\n",
       "      <td>1.000000</td>\n",
       "      <td>1.000000</td>\n",
       "      <td>1.000000</td>\n",
       "      <td>1.000000</td>\n",
       "      <td>1.000000</td>\n",
       "      <td>1.000000</td>\n",
       "      <td>1.000000</td>\n",
       "      <td>1.000000</td>\n",
       "      <td>...</td>\n",
       "      <td>1.000000</td>\n",
       "      <td>1.000000</td>\n",
       "      <td>1.000000</td>\n",
       "      <td>1.000000</td>\n",
       "      <td>1.000000</td>\n",
       "      <td>1.000000</td>\n",
       "      <td>1.000000</td>\n",
       "      <td>1.000000</td>\n",
       "      <td>1.000000</td>\n",
       "      <td>4.000000</td>\n",
       "    </tr>\n",
       "  </tbody>\n",
       "</table>\n",
       "<p>8 rows × 188 columns</p>\n",
       "</div>"
      ],
      "text/plain": [
       "                 0              1              2              3    \\\n",
       "count  109446.000000  109446.000000  109446.000000  109446.000000   \n",
       "mean        0.891170       0.758909       0.424503       0.219602   \n",
       "std         0.239657       0.221190       0.227561       0.207248   \n",
       "min         0.000000       0.000000       0.000000       0.000000   \n",
       "25%         0.922252       0.682648       0.251014       0.048853   \n",
       "50%         0.991202       0.826560       0.430174       0.166355   \n",
       "75%         1.000000       0.910868       0.579832       0.342707   \n",
       "max         1.000000       1.000000       1.000000       1.000000   \n",
       "\n",
       "                 4              5              6              7    \\\n",
       "count  109446.000000  109446.000000  109446.000000  109446.000000   \n",
       "mean        0.201237       0.210298       0.205607       0.201617   \n",
       "std         0.177191       0.171965       0.178374       0.177020   \n",
       "min         0.000000       0.000000       0.000000       0.000000   \n",
       "25%         0.082418       0.088300       0.073171       0.066093   \n",
       "50%         0.147842       0.158640       0.145078       0.144465   \n",
       "75%         0.259045       0.287500       0.298343       0.295235   \n",
       "max         1.000000       1.000000       1.000000       1.000000   \n",
       "\n",
       "                 8              9    ...            178            179  \\\n",
       "count  109446.000000  109446.000000  ...  109446.000000  109446.000000   \n",
       "mean        0.198480       0.196610  ...       0.004937       0.004568   \n",
       "std         0.171469       0.168028  ...       0.043951       0.042109   \n",
       "min         0.000000       0.000000  ...       0.000000       0.000000   \n",
       "25%         0.064893       0.068615  ...       0.000000       0.000000   \n",
       "50%         0.150073       0.148849  ...       0.000000       0.000000   \n",
       "75%         0.290623       0.283465  ...       0.000000       0.000000   \n",
       "max         1.000000       1.000000  ...       1.000000       1.000000   \n",
       "\n",
       "                 180            181            182            183  \\\n",
       "count  109446.000000  109446.000000  109446.000000  109446.000000   \n",
       "mean        0.004237       0.003914       0.003673       0.003469   \n",
       "std         0.040471       0.038801       0.037465       0.036552   \n",
       "min         0.000000       0.000000       0.000000       0.000000   \n",
       "25%         0.000000       0.000000       0.000000       0.000000   \n",
       "50%         0.000000       0.000000       0.000000       0.000000   \n",
       "75%         0.000000       0.000000       0.000000       0.000000   \n",
       "max         1.000000       1.000000       1.000000       1.000000   \n",
       "\n",
       "                 184            185            186            187  \n",
       "count  109446.000000  109446.000000  109446.000000  109446.000000  \n",
       "mean        0.003210       0.002956       0.002835       0.473439  \n",
       "std         0.035015       0.033413       0.032620       1.143232  \n",
       "min         0.000000       0.000000       0.000000       0.000000  \n",
       "25%         0.000000       0.000000       0.000000       0.000000  \n",
       "50%         0.000000       0.000000       0.000000       0.000000  \n",
       "75%         0.000000       0.000000       0.000000       0.000000  \n",
       "max         1.000000       1.000000       1.000000       4.000000  \n",
       "\n",
       "[8 rows x 188 columns]"
      ]
     },
     "execution_count": 10,
     "metadata": {},
     "output_type": "execute_result"
    }
   ],
   "source": [
    "df.describe()"
   ]
  },
  {
   "cell_type": "code",
   "execution_count": 11,
   "id": "438184d7",
   "metadata": {
    "execution": {
     "iopub.execute_input": "2022-11-20T15:33:47.865759Z",
     "iopub.status.busy": "2022-11-20T15:33:47.865387Z",
     "iopub.status.idle": "2022-11-20T15:33:55.159092Z",
     "shell.execute_reply": "2022-11-20T15:33:55.157300Z"
    },
    "papermill": {
     "duration": 7.306827,
     "end_time": "2022-11-20T15:33:55.161372",
     "exception": false,
     "start_time": "2022-11-20T15:33:47.854545",
     "status": "completed"
    },
    "tags": []
   },
   "outputs": [
    {
     "data": {
      "text/html": [
       "<div>\n",
       "<style scoped>\n",
       "    .dataframe tbody tr th:only-of-type {\n",
       "        vertical-align: middle;\n",
       "    }\n",
       "\n",
       "    .dataframe tbody tr th {\n",
       "        vertical-align: top;\n",
       "    }\n",
       "\n",
       "    .dataframe thead th {\n",
       "        text-align: right;\n",
       "    }\n",
       "</style>\n",
       "<table border=\"1\" class=\"dataframe\">\n",
       "  <thead>\n",
       "    <tr style=\"text-align: right;\">\n",
       "      <th></th>\n",
       "      <th>0</th>\n",
       "      <th>1</th>\n",
       "      <th>2</th>\n",
       "      <th>3</th>\n",
       "      <th>4</th>\n",
       "      <th>5</th>\n",
       "      <th>6</th>\n",
       "      <th>7</th>\n",
       "      <th>8</th>\n",
       "      <th>9</th>\n",
       "      <th>...</th>\n",
       "      <th>178</th>\n",
       "      <th>179</th>\n",
       "      <th>180</th>\n",
       "      <th>181</th>\n",
       "      <th>182</th>\n",
       "      <th>183</th>\n",
       "      <th>184</th>\n",
       "      <th>185</th>\n",
       "      <th>186</th>\n",
       "      <th>187</th>\n",
       "    </tr>\n",
       "  </thead>\n",
       "  <tbody>\n",
       "    <tr>\n",
       "      <th>0</th>\n",
       "      <td>1.000000</td>\n",
       "      <td>0.776378</td>\n",
       "      <td>0.142675</td>\n",
       "      <td>-0.130667</td>\n",
       "      <td>-0.239685</td>\n",
       "      <td>-0.349050</td>\n",
       "      <td>-0.427408</td>\n",
       "      <td>-0.477762</td>\n",
       "      <td>-0.519645</td>\n",
       "      <td>-0.558296</td>\n",
       "      <td>...</td>\n",
       "      <td>-0.053454</td>\n",
       "      <td>-0.047539</td>\n",
       "      <td>-0.041829</td>\n",
       "      <td>-0.038567</td>\n",
       "      <td>-0.038517</td>\n",
       "      <td>-0.039591</td>\n",
       "      <td>-0.038347</td>\n",
       "      <td>-0.036757</td>\n",
       "      <td>-0.035826</td>\n",
       "      <td>-0.165686</td>\n",
       "    </tr>\n",
       "    <tr>\n",
       "      <th>1</th>\n",
       "      <td>0.776378</td>\n",
       "      <td>1.000000</td>\n",
       "      <td>0.504394</td>\n",
       "      <td>-0.019387</td>\n",
       "      <td>-0.143028</td>\n",
       "      <td>-0.159431</td>\n",
       "      <td>-0.229313</td>\n",
       "      <td>-0.281413</td>\n",
       "      <td>-0.319116</td>\n",
       "      <td>-0.338422</td>\n",
       "      <td>...</td>\n",
       "      <td>-0.021273</td>\n",
       "      <td>-0.016822</td>\n",
       "      <td>-0.012181</td>\n",
       "      <td>-0.010962</td>\n",
       "      <td>-0.011727</td>\n",
       "      <td>-0.013761</td>\n",
       "      <td>-0.012656</td>\n",
       "      <td>-0.012080</td>\n",
       "      <td>-0.012032</td>\n",
       "      <td>-0.181527</td>\n",
       "    </tr>\n",
       "    <tr>\n",
       "      <th>2</th>\n",
       "      <td>0.142675</td>\n",
       "      <td>0.504394</td>\n",
       "      <td>1.000000</td>\n",
       "      <td>0.674551</td>\n",
       "      <td>0.405695</td>\n",
       "      <td>0.347719</td>\n",
       "      <td>0.281982</td>\n",
       "      <td>0.206044</td>\n",
       "      <td>0.137553</td>\n",
       "      <td>0.075984</td>\n",
       "      <td>...</td>\n",
       "      <td>-0.019619</td>\n",
       "      <td>-0.021688</td>\n",
       "      <td>-0.023067</td>\n",
       "      <td>-0.027023</td>\n",
       "      <td>-0.029662</td>\n",
       "      <td>-0.031110</td>\n",
       "      <td>-0.031320</td>\n",
       "      <td>-0.032764</td>\n",
       "      <td>-0.034089</td>\n",
       "      <td>0.254649</td>\n",
       "    </tr>\n",
       "    <tr>\n",
       "      <th>3</th>\n",
       "      <td>-0.130667</td>\n",
       "      <td>-0.019387</td>\n",
       "      <td>0.674551</td>\n",
       "      <td>1.000000</td>\n",
       "      <td>0.820441</td>\n",
       "      <td>0.596377</td>\n",
       "      <td>0.474315</td>\n",
       "      <td>0.386567</td>\n",
       "      <td>0.289277</td>\n",
       "      <td>0.195681</td>\n",
       "      <td>...</td>\n",
       "      <td>-0.019088</td>\n",
       "      <td>-0.025189</td>\n",
       "      <td>-0.030843</td>\n",
       "      <td>-0.037572</td>\n",
       "      <td>-0.041533</td>\n",
       "      <td>-0.042543</td>\n",
       "      <td>-0.042900</td>\n",
       "      <td>-0.044553</td>\n",
       "      <td>-0.045436</td>\n",
       "      <td>0.509595</td>\n",
       "    </tr>\n",
       "    <tr>\n",
       "      <th>4</th>\n",
       "      <td>-0.239685</td>\n",
       "      <td>-0.143028</td>\n",
       "      <td>0.405695</td>\n",
       "      <td>0.820441</td>\n",
       "      <td>1.000000</td>\n",
       "      <td>0.881717</td>\n",
       "      <td>0.750069</td>\n",
       "      <td>0.662476</td>\n",
       "      <td>0.560822</td>\n",
       "      <td>0.445250</td>\n",
       "      <td>...</td>\n",
       "      <td>0.017078</td>\n",
       "      <td>0.008731</td>\n",
       "      <td>0.000371</td>\n",
       "      <td>-0.008441</td>\n",
       "      <td>-0.013908</td>\n",
       "      <td>-0.015925</td>\n",
       "      <td>-0.017221</td>\n",
       "      <td>-0.020801</td>\n",
       "      <td>-0.021703</td>\n",
       "      <td>0.509321</td>\n",
       "    </tr>\n",
       "    <tr>\n",
       "      <th>...</th>\n",
       "      <td>...</td>\n",
       "      <td>...</td>\n",
       "      <td>...</td>\n",
       "      <td>...</td>\n",
       "      <td>...</td>\n",
       "      <td>...</td>\n",
       "      <td>...</td>\n",
       "      <td>...</td>\n",
       "      <td>...</td>\n",
       "      <td>...</td>\n",
       "      <td>...</td>\n",
       "      <td>...</td>\n",
       "      <td>...</td>\n",
       "      <td>...</td>\n",
       "      <td>...</td>\n",
       "      <td>...</td>\n",
       "      <td>...</td>\n",
       "      <td>...</td>\n",
       "      <td>...</td>\n",
       "      <td>...</td>\n",
       "      <td>...</td>\n",
       "    </tr>\n",
       "    <tr>\n",
       "      <th>183</th>\n",
       "      <td>-0.039591</td>\n",
       "      <td>-0.013761</td>\n",
       "      <td>-0.031110</td>\n",
       "      <td>-0.042543</td>\n",
       "      <td>-0.015925</td>\n",
       "      <td>0.005693</td>\n",
       "      <td>0.006009</td>\n",
       "      <td>0.016363</td>\n",
       "      <td>0.024172</td>\n",
       "      <td>0.017949</td>\n",
       "      <td>...</td>\n",
       "      <td>0.747677</td>\n",
       "      <td>0.789429</td>\n",
       "      <td>0.839449</td>\n",
       "      <td>0.899827</td>\n",
       "      <td>0.960228</td>\n",
       "      <td>1.000000</td>\n",
       "      <td>0.947804</td>\n",
       "      <td>0.888950</td>\n",
       "      <td>0.854775</td>\n",
       "      <td>0.037439</td>\n",
       "    </tr>\n",
       "    <tr>\n",
       "      <th>184</th>\n",
       "      <td>-0.038347</td>\n",
       "      <td>-0.012656</td>\n",
       "      <td>-0.031320</td>\n",
       "      <td>-0.042900</td>\n",
       "      <td>-0.017221</td>\n",
       "      <td>0.003328</td>\n",
       "      <td>0.003494</td>\n",
       "      <td>0.013962</td>\n",
       "      <td>0.022347</td>\n",
       "      <td>0.015879</td>\n",
       "      <td>...</td>\n",
       "      <td>0.717941</td>\n",
       "      <td>0.754616</td>\n",
       "      <td>0.797072</td>\n",
       "      <td>0.845807</td>\n",
       "      <td>0.899384</td>\n",
       "      <td>0.947804</td>\n",
       "      <td>1.000000</td>\n",
       "      <td>0.950379</td>\n",
       "      <td>0.910361</td>\n",
       "      <td>0.037801</td>\n",
       "    </tr>\n",
       "    <tr>\n",
       "      <th>185</th>\n",
       "      <td>-0.036757</td>\n",
       "      <td>-0.012080</td>\n",
       "      <td>-0.032764</td>\n",
       "      <td>-0.044553</td>\n",
       "      <td>-0.020801</td>\n",
       "      <td>-0.001064</td>\n",
       "      <td>-0.000439</td>\n",
       "      <td>0.010669</td>\n",
       "      <td>0.020025</td>\n",
       "      <td>0.013493</td>\n",
       "      <td>...</td>\n",
       "      <td>0.695258</td>\n",
       "      <td>0.726812</td>\n",
       "      <td>0.764176</td>\n",
       "      <td>0.806033</td>\n",
       "      <td>0.848494</td>\n",
       "      <td>0.888950</td>\n",
       "      <td>0.950379</td>\n",
       "      <td>1.000000</td>\n",
       "      <td>0.969127</td>\n",
       "      <td>0.037403</td>\n",
       "    </tr>\n",
       "    <tr>\n",
       "      <th>186</th>\n",
       "      <td>-0.035826</td>\n",
       "      <td>-0.012032</td>\n",
       "      <td>-0.034089</td>\n",
       "      <td>-0.045436</td>\n",
       "      <td>-0.021703</td>\n",
       "      <td>-0.002450</td>\n",
       "      <td>-0.001696</td>\n",
       "      <td>0.009803</td>\n",
       "      <td>0.019711</td>\n",
       "      <td>0.013236</td>\n",
       "      <td>...</td>\n",
       "      <td>0.683091</td>\n",
       "      <td>0.712380</td>\n",
       "      <td>0.746616</td>\n",
       "      <td>0.783789</td>\n",
       "      <td>0.822067</td>\n",
       "      <td>0.854775</td>\n",
       "      <td>0.910361</td>\n",
       "      <td>0.969127</td>\n",
       "      <td>1.000000</td>\n",
       "      <td>0.036807</td>\n",
       "    </tr>\n",
       "    <tr>\n",
       "      <th>187</th>\n",
       "      <td>-0.165686</td>\n",
       "      <td>-0.181527</td>\n",
       "      <td>0.254649</td>\n",
       "      <td>0.509595</td>\n",
       "      <td>0.509321</td>\n",
       "      <td>0.409576</td>\n",
       "      <td>0.327166</td>\n",
       "      <td>0.247993</td>\n",
       "      <td>0.159335</td>\n",
       "      <td>0.058466</td>\n",
       "      <td>...</td>\n",
       "      <td>0.041289</td>\n",
       "      <td>0.040798</td>\n",
       "      <td>0.040535</td>\n",
       "      <td>0.038573</td>\n",
       "      <td>0.037666</td>\n",
       "      <td>0.037439</td>\n",
       "      <td>0.037801</td>\n",
       "      <td>0.037403</td>\n",
       "      <td>0.036807</td>\n",
       "      <td>1.000000</td>\n",
       "    </tr>\n",
       "  </tbody>\n",
       "</table>\n",
       "<p>188 rows × 188 columns</p>\n",
       "</div>"
      ],
      "text/plain": [
       "          0         1         2         3         4         5         6    \\\n",
       "0    1.000000  0.776378  0.142675 -0.130667 -0.239685 -0.349050 -0.427408   \n",
       "1    0.776378  1.000000  0.504394 -0.019387 -0.143028 -0.159431 -0.229313   \n",
       "2    0.142675  0.504394  1.000000  0.674551  0.405695  0.347719  0.281982   \n",
       "3   -0.130667 -0.019387  0.674551  1.000000  0.820441  0.596377  0.474315   \n",
       "4   -0.239685 -0.143028  0.405695  0.820441  1.000000  0.881717  0.750069   \n",
       "..        ...       ...       ...       ...       ...       ...       ...   \n",
       "183 -0.039591 -0.013761 -0.031110 -0.042543 -0.015925  0.005693  0.006009   \n",
       "184 -0.038347 -0.012656 -0.031320 -0.042900 -0.017221  0.003328  0.003494   \n",
       "185 -0.036757 -0.012080 -0.032764 -0.044553 -0.020801 -0.001064 -0.000439   \n",
       "186 -0.035826 -0.012032 -0.034089 -0.045436 -0.021703 -0.002450 -0.001696   \n",
       "187 -0.165686 -0.181527  0.254649  0.509595  0.509321  0.409576  0.327166   \n",
       "\n",
       "          7         8         9    ...       178       179       180  \\\n",
       "0   -0.477762 -0.519645 -0.558296  ... -0.053454 -0.047539 -0.041829   \n",
       "1   -0.281413 -0.319116 -0.338422  ... -0.021273 -0.016822 -0.012181   \n",
       "2    0.206044  0.137553  0.075984  ... -0.019619 -0.021688 -0.023067   \n",
       "3    0.386567  0.289277  0.195681  ... -0.019088 -0.025189 -0.030843   \n",
       "4    0.662476  0.560822  0.445250  ...  0.017078  0.008731  0.000371   \n",
       "..        ...       ...       ...  ...       ...       ...       ...   \n",
       "183  0.016363  0.024172  0.017949  ...  0.747677  0.789429  0.839449   \n",
       "184  0.013962  0.022347  0.015879  ...  0.717941  0.754616  0.797072   \n",
       "185  0.010669  0.020025  0.013493  ...  0.695258  0.726812  0.764176   \n",
       "186  0.009803  0.019711  0.013236  ...  0.683091  0.712380  0.746616   \n",
       "187  0.247993  0.159335  0.058466  ...  0.041289  0.040798  0.040535   \n",
       "\n",
       "          181       182       183       184       185       186       187  \n",
       "0   -0.038567 -0.038517 -0.039591 -0.038347 -0.036757 -0.035826 -0.165686  \n",
       "1   -0.010962 -0.011727 -0.013761 -0.012656 -0.012080 -0.012032 -0.181527  \n",
       "2   -0.027023 -0.029662 -0.031110 -0.031320 -0.032764 -0.034089  0.254649  \n",
       "3   -0.037572 -0.041533 -0.042543 -0.042900 -0.044553 -0.045436  0.509595  \n",
       "4   -0.008441 -0.013908 -0.015925 -0.017221 -0.020801 -0.021703  0.509321  \n",
       "..        ...       ...       ...       ...       ...       ...       ...  \n",
       "183  0.899827  0.960228  1.000000  0.947804  0.888950  0.854775  0.037439  \n",
       "184  0.845807  0.899384  0.947804  1.000000  0.950379  0.910361  0.037801  \n",
       "185  0.806033  0.848494  0.888950  0.950379  1.000000  0.969127  0.037403  \n",
       "186  0.783789  0.822067  0.854775  0.910361  0.969127  1.000000  0.036807  \n",
       "187  0.038573  0.037666  0.037439  0.037801  0.037403  0.036807  1.000000  \n",
       "\n",
       "[188 rows x 188 columns]"
      ]
     },
     "execution_count": 11,
     "metadata": {},
     "output_type": "execute_result"
    }
   ],
   "source": [
    "df.corr()"
   ]
  },
  {
   "cell_type": "code",
   "execution_count": 12,
   "id": "6dac7416",
   "metadata": {
    "execution": {
     "iopub.execute_input": "2022-11-20T15:33:55.181652Z",
     "iopub.status.busy": "2022-11-20T15:33:55.181326Z",
     "iopub.status.idle": "2022-11-20T15:33:55.191590Z",
     "shell.execute_reply": "2022-11-20T15:33:55.190743Z"
    },
    "papermill": {
     "duration": 0.022441,
     "end_time": "2022-11-20T15:33:55.193402",
     "exception": false,
     "start_time": "2022-11-20T15:33:55.170961",
     "status": "completed"
    },
    "tags": []
   },
   "outputs": [
    {
     "data": {
      "text/plain": [
       "0.0    90589\n",
       "4.0     8039\n",
       "2.0     7236\n",
       "1.0     2779\n",
       "3.0      803\n",
       "Name: 187, dtype: int64"
      ]
     },
     "execution_count": 12,
     "metadata": {},
     "output_type": "execute_result"
    }
   ],
   "source": [
    "df[187].value_counts()"
   ]
  },
  {
   "cell_type": "code",
   "execution_count": 13,
   "id": "e19839ff",
   "metadata": {
    "execution": {
     "iopub.execute_input": "2022-11-20T15:33:55.216294Z",
     "iopub.status.busy": "2022-11-20T15:33:55.215936Z",
     "iopub.status.idle": "2022-11-20T15:33:55.398672Z",
     "shell.execute_reply": "2022-11-20T15:33:55.397185Z"
    },
    "papermill": {
     "duration": 0.197305,
     "end_time": "2022-11-20T15:33:55.401202",
     "exception": false,
     "start_time": "2022-11-20T15:33:55.203897",
     "status": "completed"
    },
    "tags": []
   },
   "outputs": [
    {
     "name": "stdout",
     "output_type": "stream",
     "text": [
      "class distribution\n"
     ]
    },
    {
     "data": {
      "text/plain": [
       "<AxesSubplot:>"
      ]
     },
     "execution_count": 13,
     "metadata": {},
     "output_type": "execute_result"
    },
    {
     "data": {
      "image/png": "[encoded data removed]",
      "text/plain": [
       "<Figure size 432x288 with 1 Axes>"
      ]
     },
     "metadata": {
      "needs_background": "light"
     },
     "output_type": "display_data"
    }
   ],
   "source": [
    "print('class distribution')\n",
    "df[187].value_counts().plot(kind='bar')"
   ]
  },
  {
   "cell_type": "code",
   "execution_count": 14,
   "id": "91efa8cb",
   "metadata": {
    "execution": {
     "iopub.execute_input": "2022-11-20T15:33:55.426381Z",
     "iopub.status.busy": "2022-11-20T15:33:55.425950Z",
     "iopub.status.idle": "2022-11-20T15:33:55.462157Z",
     "shell.execute_reply": "2022-11-20T15:33:55.461054Z"
    },
    "papermill": {
     "duration": 0.051497,
     "end_time": "2022-11-20T15:33:55.464063",
     "exception": false,
     "start_time": "2022-11-20T15:33:55.412566",
     "status": "completed"
    },
    "tags": []
   },
   "outputs": [
    {
     "data": {
      "text/plain": [
       "0      0\n",
       "1      0\n",
       "2      0\n",
       "3      0\n",
       "4      0\n",
       "      ..\n",
       "183    0\n",
       "184    0\n",
       "185    0\n",
       "186    0\n",
       "187    0\n",
       "Length: 188, dtype: int64"
      ]
     },
     "execution_count": 14,
     "metadata": {},
     "output_type": "execute_result"
    }
   ],
   "source": [
    "df.isnull().sum()"
   ]
  },
  {
   "cell_type": "code",
   "execution_count": 15,
   "id": "200b60a1",
   "metadata": {
    "execution": {
     "iopub.execute_input": "2022-11-20T15:33:55.488281Z",
     "iopub.status.busy": "2022-11-20T15:33:55.487370Z",
     "iopub.status.idle": "2022-11-20T15:33:55.522483Z",
     "shell.execute_reply": "2022-11-20T15:33:55.521358Z"
    },
    "papermill": {
     "duration": 0.049554,
     "end_time": "2022-11-20T15:33:55.524311",
     "exception": false,
     "start_time": "2022-11-20T15:33:55.474757",
     "status": "completed"
    },
    "tags": []
   },
   "outputs": [
    {
     "data": {
      "text/plain": [
       "0"
      ]
     },
     "execution_count": 15,
     "metadata": {},
     "output_type": "execute_result"
    }
   ],
   "source": [
    "df.isnull().sum().sum()"
   ]
  },
  {
   "cell_type": "markdown",
   "id": "b1411b0b",
   "metadata": {
    "papermill": {
     "duration": 0.00942,
     "end_time": "2022-11-20T15:33:55.544267",
     "exception": false,
     "start_time": "2022-11-20T15:33:55.534847",
     "status": "completed"
    },
    "tags": []
   },
   "source": [
    "There are 5 classes\n",
    "Normal beat ('N'): 0\n",
    "Supraventricular ectopic beats ('S'): 1\n",
    "Ventricular ectopic beats ('V'): 2\n",
    "Fusion Beats ('F'): 3\n",
    "Unknown Beats ('Q'): 4"
   ]
  },
  {
   "cell_type": "code",
   "execution_count": 16,
   "id": "f47ce2ca",
   "metadata": {
    "execution": {
     "iopub.execute_input": "2022-11-20T15:33:55.565661Z",
     "iopub.status.busy": "2022-11-20T15:33:55.565176Z",
     "iopub.status.idle": "2022-11-20T15:33:55.568887Z",
     "shell.execute_reply": "2022-11-20T15:33:55.568343Z"
    },
    "papermill": {
     "duration": 0.016369,
     "end_time": "2022-11-20T15:33:55.570438",
     "exception": false,
     "start_time": "2022-11-20T15:33:55.554069",
     "status": "completed"
    },
    "tags": []
   },
   "outputs": [],
   "source": [
    "label = [\"Normal Beat (N:0)\",\n",
    "         \"Supraventricular (S:1)\",\n",
    "         \"Ventricular (V:2)\",\n",
    "         \"Fusion (F:3)\",\n",
    "         \"Unknown (Q:4)\"]"
   ]
  },
  {
   "cell_type": "code",
   "execution_count": 17,
   "id": "fa80954c",
   "metadata": {
    "execution": {
     "iopub.execute_input": "2022-11-20T15:33:55.592459Z",
     "iopub.status.busy": "2022-11-20T15:33:55.591955Z",
     "iopub.status.idle": "2022-11-20T15:33:56.400928Z",
     "shell.execute_reply": "2022-11-20T15:33:56.400191Z"
    },
    "papermill": {
     "duration": 0.822263,
     "end_time": "2022-11-20T15:33:56.402907",
     "exception": false,
     "start_time": "2022-11-20T15:33:55.580644",
     "status": "completed"
    },
    "tags": []
   },
   "outputs": [
    {
     "data": {
      "image/png": "[encoded data removed]",
      "text/plain": [
       "<Figure size 1080x1440 with 5 Axes>"
      ]
     },
     "metadata": {
      "needs_background": "light"
     },
     "output_type": "display_data"
    }
   ],
   "source": [
    "import matplotlib.pyplot as plt\n",
    "fig, ax = plt.subplots(5, 1, sharex=True, sharey=True,figsize=(15,20))\n",
    "for i, row in enumerate(ax):\n",
    "    row.plot((df[df[187] == i].iloc[0])[:-1], label=label[i])\n",
    "    row.legend()"
   ]
  },
  {
   "cell_type": "code",
   "execution_count": 18,
   "id": "0afe248e",
   "metadata": {
    "execution": {
     "iopub.execute_input": "2022-11-20T15:33:56.430863Z",
     "iopub.status.busy": "2022-11-20T15:33:56.430343Z",
     "iopub.status.idle": "2022-11-20T15:34:05.507902Z",
     "shell.execute_reply": "2022-11-20T15:34:05.506637Z"
    },
    "papermill": {
     "duration": 9.095276,
     "end_time": "2022-11-20T15:34:05.510387",
     "exception": false,
     "start_time": "2022-11-20T15:33:56.415111",
     "status": "completed"
    },
    "tags": []
   },
   "outputs": [
    {
     "data": {
      "text/plain": [
       "<AxesSubplot:>"
      ]
     },
     "execution_count": 18,
     "metadata": {},
     "output_type": "execute_result"
    },
    {
     "data": {
      "image/png": "[encoded data removed]",
      "text/plain": [
       "<Figure size 792x648 with 2 Axes>"
      ]
     },
     "metadata": {
      "needs_background": "light"
     },
     "output_type": "display_data"
    }
   ],
   "source": [
    "import numpy as np \n",
    "import seaborn as sns\n",
    "import matplotlib.pyplot as plt\n",
    "corr = df.corr()\n",
    "\n",
    "# Generate a mask for the upper triangle\n",
    "mask = np.triu(np.ones_like(corr, dtype=bool))\n",
    "\n",
    "# Set up the matplotlib figure\n",
    "f, ax = plt.subplots(figsize=(11, 9))\n",
    "\n",
    "# Generate a custom diverging colormap\n",
    "cmap = sns.diverging_palette(230, 20, as_cmap=True)\n",
    "\n",
    "# Draw the heatmap with the mask and correct aspect ratio\n",
    "sns.heatmap(corr, mask=mask, cmap=cmap, vmax=.3, center=0,\n",
    "            square=True, linewidths=.5, cbar_kws={\"shrink\": .5})"
   ]
  },
  {
   "cell_type": "code",
   "execution_count": 19,
   "id": "848c3181",
   "metadata": {
    "execution": {
     "iopub.execute_input": "2022-11-20T15:34:05.536649Z",
     "iopub.status.busy": "2022-11-20T15:34:05.535823Z",
     "iopub.status.idle": "2022-11-20T15:34:05.744868Z",
     "shell.execute_reply": "2022-11-20T15:34:05.743469Z"
    },
    "papermill": {
     "duration": 0.224738,
     "end_time": "2022-11-20T15:34:05.747444",
     "exception": false,
     "start_time": "2022-11-20T15:34:05.522706",
     "status": "completed"
    },
    "tags": []
   },
   "outputs": [],
   "source": [
    "from sklearn.model_selection import train_test_split,cross_val_score\n",
    "from sklearn.metrics import classification_report,accuracy_score,confusion_matrix"
   ]
  },
  {
   "cell_type": "code",
   "execution_count": 20,
   "id": "a68f9a8d",
   "metadata": {
    "execution": {
     "iopub.execute_input": "2022-11-20T15:34:05.774150Z",
     "iopub.status.busy": "2022-11-20T15:34:05.772924Z",
     "iopub.status.idle": "2022-11-20T15:34:05.777632Z",
     "shell.execute_reply": "2022-11-20T15:34:05.777083Z"
    },
    "papermill": {
     "duration": 0.020311,
     "end_time": "2022-11-20T15:34:05.779822",
     "exception": false,
     "start_time": "2022-11-20T15:34:05.759511",
     "status": "completed"
    },
    "tags": []
   },
   "outputs": [],
   "source": [
    "X=df.iloc[:,:-1]\n",
    "y=df.iloc[:,-1]"
   ]
  },
  {
   "cell_type": "code",
   "execution_count": 21,
   "id": "5bd3d02f",
   "metadata": {
    "execution": {
     "iopub.execute_input": "2022-11-20T15:34:05.808290Z",
     "iopub.status.busy": "2022-11-20T15:34:05.807722Z",
     "iopub.status.idle": "2022-11-20T15:34:05.975802Z",
     "shell.execute_reply": "2022-11-20T15:34:05.975179Z"
    },
    "papermill": {
     "duration": 0.184737,
     "end_time": "2022-11-20T15:34:05.977945",
     "exception": false,
     "start_time": "2022-11-20T15:34:05.793208",
     "status": "completed"
    },
    "tags": []
   },
   "outputs": [],
   "source": [
    "X_train, X_test, y_train, y_test = train_test_split(X, y, test_size=0.3, random_state=28)"
   ]
  },
  {
   "cell_type": "code",
   "execution_count": null,
   "id": "007c3485",
   "metadata": {
    "papermill": {
     "duration": 0.012213,
     "end_time": "2022-11-20T15:34:06.002205",
     "exception": false,
     "start_time": "2022-11-20T15:34:05.989992",
     "status": "completed"
    },
    "tags": []
   },
   "outputs": [],
   "source": []
  },
  {
   "cell_type": "code",
   "execution_count": 22,
   "id": "ded21905",
   "metadata": {
    "execution": {
     "iopub.execute_input": "2022-11-20T15:34:06.031669Z",
     "iopub.status.busy": "2022-11-20T15:34:06.031148Z",
     "iopub.status.idle": "2022-11-20T15:34:06.038085Z",
     "shell.execute_reply": "2022-11-20T15:34:06.037234Z"
    },
    "papermill": {
     "duration": 0.024295,
     "end_time": "2022-11-20T15:34:06.040225",
     "exception": false,
     "start_time": "2022-11-20T15:34:06.015930",
     "status": "completed"
    },
    "tags": []
   },
   "outputs": [
    {
     "data": {
      "text/plain": [
       "0.0    63493\n",
       "4.0     5546\n",
       "2.0     5075\n",
       "1.0     1927\n",
       "3.0      571\n",
       "Name: 187, dtype: int64"
      ]
     },
     "execution_count": 22,
     "metadata": {},
     "output_type": "execute_result"
    }
   ],
   "source": [
    "y_train.value_counts()"
   ]
  },
  {
   "cell_type": "markdown",
   "id": "5869d5d1",
   "metadata": {
    "papermill": {
     "duration": 0.012364,
     "end_time": "2022-11-20T15:34:06.064759",
     "exception": false,
     "start_time": "2022-11-20T15:34:06.052395",
     "status": "completed"
    },
    "tags": []
   },
   "source": [
    "# **Unbalanced class distribution.**Hence we need to resample.</br>\n",
    "We use SMOTE </br>\n",
    "*SMOTE: Synthetic Minority Over-sampling Technique*\n"
   ]
  },
  {
   "cell_type": "code",
   "execution_count": 23,
   "id": "aa5180bb",
   "metadata": {
    "execution": {
     "iopub.execute_input": "2022-11-20T15:34:06.091013Z",
     "iopub.status.busy": "2022-11-20T15:34:06.090425Z",
     "iopub.status.idle": "2022-11-20T15:34:06.397273Z",
     "shell.execute_reply": "2022-11-20T15:34:06.396254Z"
    },
    "papermill": {
     "duration": 0.322558,
     "end_time": "2022-11-20T15:34:06.399442",
     "exception": false,
     "start_time": "2022-11-20T15:34:06.076884",
     "status": "completed"
    },
    "tags": []
   },
   "outputs": [],
   "source": [
    "import imblearn\n",
    "from imblearn.over_sampling import SMOTE"
   ]
  },
  {
   "cell_type": "code",
   "execution_count": 24,
   "id": "1a6ef8b8",
   "metadata": {
    "execution": {
     "iopub.execute_input": "2022-11-20T15:34:06.426384Z",
     "iopub.status.busy": "2022-11-20T15:34:06.425846Z",
     "iopub.status.idle": "2022-11-20T15:34:09.177799Z",
     "shell.execute_reply": "2022-11-20T15:34:09.176602Z"
    },
    "papermill": {
     "duration": 2.769243,
     "end_time": "2022-11-20T15:34:09.180880",
     "exception": false,
     "start_time": "2022-11-20T15:34:06.411637",
     "status": "completed"
    },
    "tags": []
   },
   "outputs": [],
   "source": [
    "smote=SMOTE()\n",
    "X_oversampled,y_oversampled=smote.fit_resample(X_train,y_train)"
   ]
  },
  {
   "cell_type": "code",
   "execution_count": 25,
   "id": "78acaf66",
   "metadata": {
    "execution": {
     "iopub.execute_input": "2022-11-20T15:34:09.207520Z",
     "iopub.status.busy": "2022-11-20T15:34:09.207165Z",
     "iopub.status.idle": "2022-11-20T15:34:09.220379Z",
     "shell.execute_reply": "2022-11-20T15:34:09.219357Z"
    },
    "papermill": {
     "duration": 0.028899,
     "end_time": "2022-11-20T15:34:09.222293",
     "exception": false,
     "start_time": "2022-11-20T15:34:09.193394",
     "status": "completed"
    },
    "tags": []
   },
   "outputs": [
    {
     "data": {
      "text/plain": [
       "0.0    63493\n",
       "4.0    63493\n",
       "1.0    63493\n",
       "2.0    63493\n",
       "3.0    63493\n",
       "Name: 187, dtype: int64"
      ]
     },
     "execution_count": 25,
     "metadata": {},
     "output_type": "execute_result"
    }
   ],
   "source": [
    "y_oversampled.value_counts()"
   ]
  },
  {
   "cell_type": "code",
   "execution_count": 26,
   "id": "df703c3f",
   "metadata": {
    "execution": {
     "iopub.execute_input": "2022-11-20T15:34:09.249365Z",
     "iopub.status.busy": "2022-11-20T15:34:09.248966Z",
     "iopub.status.idle": "2022-11-20T15:34:09.253544Z",
     "shell.execute_reply": "2022-11-20T15:34:09.253013Z"
    },
    "papermill": {
     "duration": 0.019907,
     "end_time": "2022-11-20T15:34:09.255418",
     "exception": false,
     "start_time": "2022-11-20T15:34:09.235511",
     "status": "completed"
    },
    "tags": []
   },
   "outputs": [
    {
     "name": "stdout",
     "output_type": "stream",
     "text": [
      "(76612, 187)\n",
      "(76612,)\n",
      "(32834, 187)\n",
      "(32834,)\n"
     ]
    }
   ],
   "source": [
    "print(X_train.shape)\n",
    "print(y_train.shape)\n",
    "print(X_test.shape)\n",
    "print(y_test.shape)"
   ]
  },
  {
   "cell_type": "code",
   "execution_count": 27,
   "id": "b66b7565",
   "metadata": {
    "execution": {
     "iopub.execute_input": "2022-11-20T15:34:09.284212Z",
     "iopub.status.busy": "2022-11-20T15:34:09.283011Z",
     "iopub.status.idle": "2022-11-20T15:34:15.161555Z",
     "shell.execute_reply": "2022-11-20T15:34:15.160640Z"
    },
    "papermill": {
     "duration": 5.894677,
     "end_time": "2022-11-20T15:34:15.163481",
     "exception": false,
     "start_time": "2022-11-20T15:34:09.268804",
     "status": "completed"
    },
    "tags": []
   },
   "outputs": [
    {
     "name": "stderr",
     "output_type": "stream",
     "text": [
      "2022-11-20 15:34:15.071424: I tensorflow/core/common_runtime/process_util.cc:146] Creating new thread pool with default inter op setting: 2. Tune using inter_op_parallelism_threads for best performance.\n"
     ]
    }
   ],
   "source": [
    "import tensorflow\n",
    "from tensorflow import keras\n",
    "from tensorflow.keras import Sequential\n",
    "from tensorflow.keras.layers import Dense\n",
    "model=Sequential()\n",
    "model.add(Dense(256,activation='relu',input_dim=187))\n",
    "model.add(Dense(128,activation='relu'))\n",
    "model.add(Dense(64,activation='relu'))\n",
    "model.add(Dense(5,activation='softmax'))\n",
    "model.compile(optimizer='Adam',loss='sparse_categorical_crossentropy',metrics=['accuracy'])"
   ]
  },
  {
   "cell_type": "code",
   "execution_count": 28,
   "id": "9b8cf0bd",
   "metadata": {
    "execution": {
     "iopub.execute_input": "2022-11-20T15:34:15.191038Z",
     "iopub.status.busy": "2022-11-20T15:34:15.190617Z",
     "iopub.status.idle": "2022-11-20T15:34:15.197943Z",
     "shell.execute_reply": "2022-11-20T15:34:15.196614Z"
    },
    "papermill": {
     "duration": 0.023902,
     "end_time": "2022-11-20T15:34:15.200715",
     "exception": false,
     "start_time": "2022-11-20T15:34:15.176813",
     "status": "completed"
    },
    "tags": []
   },
   "outputs": [
    {
     "name": "stdout",
     "output_type": "stream",
     "text": [
      "Model: \"sequential\"\n",
      "_________________________________________________________________\n",
      "Layer (type)                 Output Shape              Param #   \n",
      "=================================================================\n",
      "dense (Dense)                (None, 256)               48128     \n",
      "_________________________________________________________________\n",
      "dense_1 (Dense)              (None, 128)               32896     \n",
      "_________________________________________________________________\n",
      "dense_2 (Dense)              (None, 64)                8256      \n",
      "_________________________________________________________________\n",
      "dense_3 (Dense)              (None, 5)                 325       \n",
      "=================================================================\n",
      "Total params: 89,605\n",
      "Trainable params: 89,605\n",
      "Non-trainable params: 0\n",
      "_________________________________________________________________\n"
     ]
    }
   ],
   "source": [
    "model.summary()"
   ]
  },
  {
   "cell_type": "code",
   "execution_count": 29,
   "id": "b76d6fd7",
   "metadata": {
    "execution": {
     "iopub.execute_input": "2022-11-20T15:34:15.228362Z",
     "iopub.status.busy": "2022-11-20T15:34:15.227666Z",
     "iopub.status.idle": "2022-11-20T15:34:15.231815Z",
     "shell.execute_reply": "2022-11-20T15:34:15.230980Z"
    },
    "papermill": {
     "duration": 0.019654,
     "end_time": "2022-11-20T15:34:15.233453",
     "exception": false,
     "start_time": "2022-11-20T15:34:15.213799",
     "status": "completed"
    },
    "tags": []
   },
   "outputs": [],
   "source": [
    "##from ann_visualizer.visualize import ann_viz;\n",
    "##ann_viz(model, title=\"ANN Visualized\")"
   ]
  },
  {
   "cell_type": "code",
   "execution_count": 30,
   "id": "5ed140a2",
   "metadata": {
    "execution": {
     "iopub.execute_input": "2022-11-20T15:34:15.261105Z",
     "iopub.status.busy": "2022-11-20T15:34:15.260568Z",
     "iopub.status.idle": "2022-11-20T15:38:00.859816Z",
     "shell.execute_reply": "2022-11-20T15:38:00.858830Z"
    },
    "papermill": {
     "duration": 225.615496,
     "end_time": "2022-11-20T15:38:00.862027",
     "exception": false,
     "start_time": "2022-11-20T15:34:15.246531",
     "status": "completed"
    },
    "tags": []
   },
   "outputs": [
    {
     "name": "stderr",
     "output_type": "stream",
     "text": [
      "2022-11-20 15:34:15.427440: I tensorflow/compiler/mlir/mlir_graph_optimization_pass.cc:185] None of the MLIR Optimization Passes are enabled (registered 2)\n"
     ]
    },
    {
     "name": "stdout",
     "output_type": "stream",
     "text": [
      "Epoch 1/50\n",
      "958/958 [==============================] - 5s 5ms/step - loss: 0.2507 - accuracy: 0.9298 - val_loss: 0.1581 - val_accuracy: 0.9558\n",
      "Epoch 2/50\n",
      "958/958 [==============================] - 5s 5ms/step - loss: 0.1466 - accuracy: 0.9587 - val_loss: 0.1333 - val_accuracy: 0.9619\n",
      "Epoch 3/50\n",
      "958/958 [==============================] - 5s 5ms/step - loss: 0.1237 - accuracy: 0.9649 - val_loss: 0.1193 - val_accuracy: 0.9633\n",
      "Epoch 4/50\n",
      "958/958 [==============================] - 4s 5ms/step - loss: 0.1107 - accuracy: 0.9683 - val_loss: 0.1021 - val_accuracy: 0.9708\n",
      "Epoch 5/50\n",
      "958/958 [==============================] - 4s 4ms/step - loss: 0.0963 - accuracy: 0.9723 - val_loss: 0.0968 - val_accuracy: 0.9737\n",
      "Epoch 6/50\n",
      "958/958 [==============================] - 5s 5ms/step - loss: 0.0893 - accuracy: 0.9738 - val_loss: 0.0985 - val_accuracy: 0.9736\n",
      "Epoch 7/50\n",
      "958/958 [==============================] - 4s 4ms/step - loss: 0.0824 - accuracy: 0.9755 - val_loss: 0.1014 - val_accuracy: 0.9726\n",
      "Epoch 8/50\n",
      "958/958 [==============================] - 4s 4ms/step - loss: 0.0773 - accuracy: 0.9766 - val_loss: 0.0956 - val_accuracy: 0.9745\n",
      "Epoch 9/50\n",
      "958/958 [==============================] - 4s 4ms/step - loss: 0.0711 - accuracy: 0.9787 - val_loss: 0.0854 - val_accuracy: 0.9774\n",
      "Epoch 10/50\n",
      "958/958 [==============================] - 4s 5ms/step - loss: 0.0681 - accuracy: 0.9791 - val_loss: 0.0857 - val_accuracy: 0.9768\n",
      "Epoch 11/50\n",
      "958/958 [==============================] - 4s 4ms/step - loss: 0.0636 - accuracy: 0.9802 - val_loss: 0.0889 - val_accuracy: 0.9759\n",
      "Epoch 12/50\n",
      "958/958 [==============================] - 4s 5ms/step - loss: 0.0587 - accuracy: 0.9812 - val_loss: 0.0852 - val_accuracy: 0.9772\n",
      "Epoch 13/50\n",
      "958/958 [==============================] - 5s 5ms/step - loss: 0.0565 - accuracy: 0.9821 - val_loss: 0.0921 - val_accuracy: 0.9769\n",
      "Epoch 14/50\n",
      "958/958 [==============================] - 5s 5ms/step - loss: 0.0530 - accuracy: 0.9829 - val_loss: 0.0840 - val_accuracy: 0.9792\n",
      "Epoch 15/50\n",
      "958/958 [==============================] - 5s 5ms/step - loss: 0.0499 - accuracy: 0.9842 - val_loss: 0.0851 - val_accuracy: 0.9791\n",
      "Epoch 16/50\n",
      "958/958 [==============================] - 4s 5ms/step - loss: 0.0477 - accuracy: 0.9846 - val_loss: 0.0982 - val_accuracy: 0.9710\n",
      "Epoch 17/50\n",
      "958/958 [==============================] - 5s 5ms/step - loss: 0.0460 - accuracy: 0.9853 - val_loss: 0.0870 - val_accuracy: 0.9796\n",
      "Epoch 18/50\n",
      "958/958 [==============================] - 5s 5ms/step - loss: 0.0442 - accuracy: 0.9858 - val_loss: 0.0975 - val_accuracy: 0.9773\n",
      "Epoch 19/50\n",
      "958/958 [==============================] - 4s 5ms/step - loss: 0.0432 - accuracy: 0.9862 - val_loss: 0.0879 - val_accuracy: 0.9781\n",
      "Epoch 20/50\n",
      "958/958 [==============================] - 5s 5ms/step - loss: 0.0391 - accuracy: 0.9871 - val_loss: 0.0852 - val_accuracy: 0.9787\n",
      "Epoch 21/50\n",
      "958/958 [==============================] - 5s 5ms/step - loss: 0.0383 - accuracy: 0.9874 - val_loss: 0.1018 - val_accuracy: 0.9776\n",
      "Epoch 22/50\n",
      "958/958 [==============================] - 4s 5ms/step - loss: 0.0381 - accuracy: 0.9875 - val_loss: 0.0916 - val_accuracy: 0.9776\n",
      "Epoch 23/50\n",
      "958/958 [==============================] - 4s 4ms/step - loss: 0.0363 - accuracy: 0.9879 - val_loss: 0.0879 - val_accuracy: 0.9788\n",
      "Epoch 24/50\n",
      "958/958 [==============================] - 4s 5ms/step - loss: 0.0333 - accuracy: 0.9893 - val_loss: 0.0967 - val_accuracy: 0.9788\n",
      "Epoch 25/50\n",
      "958/958 [==============================] - 5s 5ms/step - loss: 0.0330 - accuracy: 0.9896 - val_loss: 0.0974 - val_accuracy: 0.9784\n",
      "Epoch 26/50\n",
      "958/958 [==============================] - 4s 5ms/step - loss: 0.0325 - accuracy: 0.9888 - val_loss: 0.0969 - val_accuracy: 0.9792\n",
      "Epoch 27/50\n",
      "958/958 [==============================] - 5s 5ms/step - loss: 0.0313 - accuracy: 0.9895 - val_loss: 0.0970 - val_accuracy: 0.9789\n",
      "Epoch 28/50\n",
      "958/958 [==============================] - 5s 5ms/step - loss: 0.0291 - accuracy: 0.9899 - val_loss: 0.1044 - val_accuracy: 0.9762\n",
      "Epoch 29/50\n",
      "958/958 [==============================] - 4s 5ms/step - loss: 0.0298 - accuracy: 0.9901 - val_loss: 0.0964 - val_accuracy: 0.9796\n",
      "Epoch 30/50\n",
      "958/958 [==============================] - 5s 5ms/step - loss: 0.0285 - accuracy: 0.9906 - val_loss: 0.1072 - val_accuracy: 0.9779\n",
      "Epoch 31/50\n",
      "958/958 [==============================] - 4s 5ms/step - loss: 0.0272 - accuracy: 0.9908 - val_loss: 0.0966 - val_accuracy: 0.9791\n",
      "Epoch 32/50\n",
      "958/958 [==============================] - 4s 5ms/step - loss: 0.0259 - accuracy: 0.9910 - val_loss: 0.1004 - val_accuracy: 0.9797\n",
      "Epoch 33/50\n",
      "958/958 [==============================] - 4s 4ms/step - loss: 0.0261 - accuracy: 0.9917 - val_loss: 0.1106 - val_accuracy: 0.9779\n",
      "Epoch 34/50\n",
      "958/958 [==============================] - 5s 5ms/step - loss: 0.0251 - accuracy: 0.9913 - val_loss: 0.0992 - val_accuracy: 0.9791\n",
      "Epoch 35/50\n",
      "958/958 [==============================] - 4s 5ms/step - loss: 0.0233 - accuracy: 0.9922 - val_loss: 0.1100 - val_accuracy: 0.9793\n",
      "Epoch 36/50\n",
      "958/958 [==============================] - 4s 5ms/step - loss: 0.0233 - accuracy: 0.9922 - val_loss: 0.1071 - val_accuracy: 0.9808\n",
      "Epoch 37/50\n",
      "958/958 [==============================] - 5s 5ms/step - loss: 0.0210 - accuracy: 0.9930 - val_loss: 0.1083 - val_accuracy: 0.9804\n",
      "Epoch 38/50\n",
      "958/958 [==============================] - 5s 5ms/step - loss: 0.0219 - accuracy: 0.9927 - val_loss: 0.1162 - val_accuracy: 0.9808\n",
      "Epoch 39/50\n",
      "958/958 [==============================] - 5s 5ms/step - loss: 0.0236 - accuracy: 0.9922 - val_loss: 0.1139 - val_accuracy: 0.9794\n",
      "Epoch 40/50\n",
      "958/958 [==============================] - 5s 5ms/step - loss: 0.0222 - accuracy: 0.9924 - val_loss: 0.1156 - val_accuracy: 0.9787\n",
      "Epoch 41/50\n",
      "958/958 [==============================] - 5s 5ms/step - loss: 0.0215 - accuracy: 0.9927 - val_loss: 0.1070 - val_accuracy: 0.9777\n",
      "Epoch 42/50\n",
      "958/958 [==============================] - 5s 5ms/step - loss: 0.0187 - accuracy: 0.9938 - val_loss: 0.1134 - val_accuracy: 0.9793\n",
      "Epoch 43/50\n",
      "958/958 [==============================] - 5s 5ms/step - loss: 0.0214 - accuracy: 0.9929 - val_loss: 0.1181 - val_accuracy: 0.9787\n",
      "Epoch 44/50\n",
      "958/958 [==============================] - 4s 5ms/step - loss: 0.0191 - accuracy: 0.9932 - val_loss: 0.1126 - val_accuracy: 0.9786\n",
      "Epoch 45/50\n",
      "958/958 [==============================] - 4s 5ms/step - loss: 0.0198 - accuracy: 0.9928 - val_loss: 0.1102 - val_accuracy: 0.9804\n",
      "Epoch 46/50\n",
      "958/958 [==============================] - 4s 4ms/step - loss: 0.0184 - accuracy: 0.9938 - val_loss: 0.1300 - val_accuracy: 0.9795\n",
      "Epoch 47/50\n",
      "958/958 [==============================] - 5s 5ms/step - loss: 0.0182 - accuracy: 0.9936 - val_loss: 0.1235 - val_accuracy: 0.9791\n",
      "Epoch 48/50\n",
      "958/958 [==============================] - 5s 5ms/step - loss: 0.0178 - accuracy: 0.9939 - val_loss: 0.1174 - val_accuracy: 0.9808\n",
      "Epoch 49/50\n",
      "958/958 [==============================] - 4s 4ms/step - loss: 0.0170 - accuracy: 0.9943 - val_loss: 0.1146 - val_accuracy: 0.9773\n",
      "Epoch 50/50\n",
      "958/958 [==============================] - 4s 4ms/step - loss: 0.0180 - accuracy: 0.9944 - val_loss: 0.1139 - val_accuracy: 0.9790\n"
     ]
    }
   ],
   "source": [
    "history=model.fit(X_train,y_train,epochs=50,validation_split=0.2,batch_size=64)"
   ]
  },
  {
   "cell_type": "code",
   "execution_count": 31,
   "id": "f4c5efa6",
   "metadata": {
    "execution": {
     "iopub.execute_input": "2022-11-20T15:38:01.337080Z",
     "iopub.status.busy": "2022-11-20T15:38:01.336777Z",
     "iopub.status.idle": "2022-11-20T15:38:03.231664Z",
     "shell.execute_reply": "2022-11-20T15:38:03.230514Z"
    },
    "papermill": {
     "duration": 2.104346,
     "end_time": "2022-11-20T15:38:03.233906",
     "exception": false,
     "start_time": "2022-11-20T15:38:01.129560",
     "status": "completed"
    },
    "tags": []
   },
   "outputs": [],
   "source": [
    "y_=model.predict(X_test)\n",
    "y_pred=np.argmax(y_,axis=1)"
   ]
  },
  {
   "cell_type": "code",
   "execution_count": 32,
   "id": "b11cfe37",
   "metadata": {
    "execution": {
     "iopub.execute_input": "2022-11-20T15:38:03.662013Z",
     "iopub.status.busy": "2022-11-20T15:38:03.661421Z",
     "iopub.status.idle": "2022-11-20T15:38:03.666224Z",
     "shell.execute_reply": "2022-11-20T15:38:03.665679Z"
    },
    "papermill": {
     "duration": 0.224145,
     "end_time": "2022-11-20T15:38:03.668257",
     "exception": false,
     "start_time": "2022-11-20T15:38:03.444112",
     "status": "completed"
    },
    "tags": []
   },
   "outputs": [
    {
     "data": {
      "text/plain": [
       "array([0, 4, 0, ..., 0, 0, 0])"
      ]
     },
     "execution_count": 32,
     "metadata": {},
     "output_type": "execute_result"
    }
   ],
   "source": [
    "y_pred"
   ]
  },
  {
   "cell_type": "code",
   "execution_count": 33,
   "id": "661b3cc8",
   "metadata": {
    "execution": {
     "iopub.execute_input": "2022-11-20T15:38:04.095403Z",
     "iopub.status.busy": "2022-11-20T15:38:04.095062Z",
     "iopub.status.idle": "2022-11-20T15:38:04.146618Z",
     "shell.execute_reply": "2022-11-20T15:38:04.145161Z"
    },
    "papermill": {
     "duration": 0.268535,
     "end_time": "2022-11-20T15:38:04.149519",
     "exception": false,
     "start_time": "2022-11-20T15:38:03.880984",
     "status": "completed"
    },
    "tags": []
   },
   "outputs": [
    {
     "name": "stdout",
     "output_type": "stream",
     "text": [
      "Accuracy with ANN is: 0.9785588109886094\n",
      "              precision    recall  f1-score   support\n",
      "\n",
      "         0.0       0.99      0.99      0.99     27096\n",
      "         1.0       0.78      0.79      0.78       852\n",
      "         2.0       0.94      0.95      0.95      2161\n",
      "         3.0       0.81      0.74      0.77       232\n",
      "         4.0       0.98      0.98      0.98      2493\n",
      "\n",
      "    accuracy                           0.98     32834\n",
      "   macro avg       0.90      0.89      0.89     32834\n",
      "weighted avg       0.98      0.98      0.98     32834\n",
      "\n"
     ]
    }
   ],
   "source": [
    "print(\"Accuracy with ANN is:\", accuracy_score(y_test,y_pred))\n",
    "print(classification_report(y_test,y_pred))"
   ]
  },
  {
   "cell_type": "code",
   "execution_count": 34,
   "id": "b48e8094",
   "metadata": {
    "execution": {
     "iopub.execute_input": "2022-11-20T15:38:04.571745Z",
     "iopub.status.busy": "2022-11-20T15:38:04.571383Z",
     "iopub.status.idle": "2022-11-20T15:38:04.864748Z",
     "shell.execute_reply": "2022-11-20T15:38:04.863562Z"
    },
    "papermill": {
     "duration": 0.508808,
     "end_time": "2022-11-20T15:38:04.866508",
     "exception": false,
     "start_time": "2022-11-20T15:38:04.357700",
     "status": "completed"
    },
    "tags": []
   },
   "outputs": [
    {
     "data": {
      "image/png": "[encoded data removed]",
      "text/plain": [
       "<Figure size 2160x720 with 2 Axes>"
      ]
     },
     "metadata": {
      "needs_background": "light"
     },
     "output_type": "display_data"
    }
   ],
   "source": [
    "acc = history.history['accuracy']\n",
    "val_acc = history.history['val_accuracy']\n",
    "\n",
    "loss = history.history['loss']\n",
    "val_loss = history.history['val_loss']\n",
    "\n",
    "epochs_range = range(50)\n",
    "\n",
    "plt.figure(figsize=(30, 10))\n",
    "plt.subplot(1, 2, 1)\n",
    "plt.plot(epochs_range, acc, label='Training Accuracy')\n",
    "plt.plot(epochs_range, val_acc, label='Validation Accuracy')\n",
    "plt.legend(loc='lower right')\n",
    "plt.title('Training and Validation Accuracy')\n",
    "\n",
    "plt.subplot(1, 2, 2)\n",
    "plt.plot(epochs_range, loss, label='Training Loss')\n",
    "plt.plot(epochs_range, val_loss, label='Validation Loss')\n",
    "plt.legend(loc='upper right')\n",
    "plt.title('Training and Validation Loss')\n",
    "plt.show()"
   ]
  },
  {
   "cell_type": "code",
   "execution_count": 35,
   "id": "35fa7427",
   "metadata": {
    "execution": {
     "iopub.execute_input": "2022-11-20T15:38:05.372052Z",
     "iopub.status.busy": "2022-11-20T15:38:05.371505Z",
     "iopub.status.idle": "2022-11-20T15:38:05.399690Z",
     "shell.execute_reply": "2022-11-20T15:38:05.398820Z"
    },
    "papermill": {
     "duration": 0.244695,
     "end_time": "2022-11-20T15:38:05.401640",
     "exception": false,
     "start_time": "2022-11-20T15:38:05.156945",
     "status": "completed"
    },
    "tags": []
   },
   "outputs": [
    {
     "name": "stdout",
     "output_type": "stream",
     "text": [
      "[[26786   181    81    20    28]\n",
      " [  168   669    12     2     1]\n",
      " [   75     6  2052    18    10]\n",
      " [   35     1    22   172     2]\n",
      " [   30     3     9     0  2451]]\n"
     ]
    }
   ],
   "source": [
    "cf_matrix = confusion_matrix(y_test, y_pred)\n",
    "print(cf_matrix)"
   ]
  },
  {
   "cell_type": "code",
   "execution_count": 36,
   "id": "1af9f9fa",
   "metadata": {
    "execution": {
     "iopub.execute_input": "2022-11-20T15:38:05.825877Z",
     "iopub.status.busy": "2022-11-20T15:38:05.825541Z",
     "iopub.status.idle": "2022-11-20T15:38:05.836884Z",
     "shell.execute_reply": "2022-11-20T15:38:05.835990Z"
    },
    "papermill": {
     "duration": 0.228185,
     "end_time": "2022-11-20T15:38:05.839560",
     "exception": false,
     "start_time": "2022-11-20T15:38:05.611375",
     "status": "completed"
    },
    "tags": []
   },
   "outputs": [],
   "source": [
    "import numpy as np\n",
    "\n",
    "\n",
    "def plot_confusion_matrix(cm,\n",
    "                          target_names,\n",
    "                          title='Confusion matrix',\n",
    "                          cmap=None,\n",
    "                          normalize=True):\n",
    "    \"\"\"\n",
    "    given a sklearn confusion matrix (cm), make a nice plot\n",
    "\n",
    "    Arguments\n",
    "    ---------\n",
    "    cm:           confusion matrix from sklearn.metrics.confusion_matrix\n",
    "\n",
    "    target_names: given classification classes such as [0, 1, 2]\n",
    "                  the class names, for example: ['high', 'medium', 'low']\n",
    "\n",
    "    title:        the text to display at the top of the matrix\n",
    "\n",
    "    cmap:         the gradient of the values displayed from matplotlib.pyplot.cm\n",
    "                  see http://matplotlib.org/examples/color/colormaps_reference.html\n",
    "                  plt.get_cmap('jet') or plt.cm.Blues\n",
    "\n",
    "    normalize:    If False, plot the raw numbers\n",
    "                  If True, plot the proportions\n",
    "\n",
    "    Usage\n",
    "    -----\n",
    "    plot_confusion_matrix(cm           = cm,                  # confusion matrix created by\n",
    "                                                              # sklearn.metrics.confusion_matrix\n",
    "                          normalize    = True,                # show proportions\n",
    "                          target_names = y_labels_vals,       # list of names of the classes\n",
    "                          title        = best_estimator_name) # title of graph\n",
    "\n",
    "    Citiation\n",
    "    ---------\n",
    "    http://scikit-learn.org/stable/auto_examples/model_selection/plot_confusion_matrix.html\n",
    "\n",
    "    \"\"\"\n",
    "    import matplotlib.pyplot as plt\n",
    "    import numpy as np\n",
    "    import itertools\n",
    "\n",
    "    accuracy = np.trace(cm) / float(np.sum(cm))\n",
    "    misclass = 1 - accuracy\n",
    "\n",
    "    if cmap is None:\n",
    "        cmap = plt.get_cmap('Blues')\n",
    "\n",
    "    plt.figure(figsize=(12, 8))\n",
    "    plt.imshow(cm, interpolation='nearest', cmap=cmap)\n",
    "    plt.title(title)\n",
    "    plt.colorbar()\n",
    "\n",
    "    if target_names is not None:\n",
    "        tick_marks = np.arange(len(target_names))\n",
    "        plt.xticks(tick_marks, target_names, rotation=45)\n",
    "        plt.yticks(tick_marks, target_names)\n",
    "\n",
    "    if normalize:\n",
    "        cm = cm.astype('float') / cm.sum(axis=1)[:, np.newaxis]\n",
    "\n",
    "\n",
    "    thresh = cm.max() / 1.5 if normalize else cm.max() / 2\n",
    "    for i, j in itertools.product(range(cm.shape[0]), range(cm.shape[1])):\n",
    "        if normalize:\n",
    "            plt.text(j, i, \"{:0.4f}\".format(cm[i, j]),\n",
    "                     horizontalalignment=\"center\",\n",
    "                     color=\"white\" if cm[i, j] > thresh else \"black\")\n",
    "        else:\n",
    "            plt.text(j, i, \"{:,}\".format(cm[i, j]),\n",
    "                     horizontalalignment=\"center\",\n",
    "                     color=\"white\" if cm[i, j] > thresh else \"black\")\n",
    "\n",
    "\n",
    "    plt.tight_layout()\n",
    "    plt.ylabel('True label')\n",
    "    plt.xlabel('Predicted label\\naccuracy={:0.4f}; misclass={:0.4f}'.format(accuracy, misclass))\n",
    "    plt.show()"
   ]
  },
  {
   "cell_type": "code",
   "execution_count": 37,
   "id": "bb0ddd7b",
   "metadata": {
    "execution": {
     "iopub.execute_input": "2022-11-20T15:38:06.266899Z",
     "iopub.status.busy": "2022-11-20T15:38:06.266583Z",
     "iopub.status.idle": "2022-11-20T15:38:06.519223Z",
     "shell.execute_reply": "2022-11-20T15:38:06.517583Z"
    },
    "papermill": {
     "duration": 0.469436,
     "end_time": "2022-11-20T15:38:06.521831",
     "exception": false,
     "start_time": "2022-11-20T15:38:06.052395",
     "status": "completed"
    },
    "tags": []
   },
   "outputs": [
    {
     "data": {
      "image/png": "[encoded data removed]",
      "text/plain": [
       "<Figure size 864x576 with 2 Axes>"
      ]
     },
     "metadata": {
      "needs_background": "light"
     },
     "output_type": "display_data"
    }
   ],
   "source": [
    "plot_confusion_matrix(cf_matrix,\n",
    "                      normalize    = False,\n",
    "                      target_names = [\"Normal Beat (N:0)\",\n",
    "                                         \"Supraventricular (S:1)\",\n",
    "                                         \"Ventricular (V:2)\",\n",
    "                                         \"Fusion (F:3)\",\n",
    "                                         \"Unknown (Q:4)\"],\n",
    "                      title        = \"Confusion Matrix\")"
   ]
  }
 ],
 "metadata": {
  "kernelspec": {
   "display_name": "Python 3",
   "language": "python",
   "name": "python3"
  },
  "language_info": {
   "codemirror_mode": {
    "name": "ipython",
    "version": 3
   },
   "file_extension": ".py",
   "mimetype": "text/x-python",
   "name": "python",
   "nbconvert_exporter": "python",
   "pygments_lexer": "ipython3",
   "version": "3.7.12"
  },
  "papermill": {
   "default_parameters": {},
   "duration": 280.284194,
   "end_time": "2022-11-20T15:38:10.039985",
   "environment_variables": {},
   "exception": null,
   "input_path": "__notebook__.ipynb",
   "output_path": "__notebook__.ipynb",
   "parameters": {},
   "start_time": "2022-11-20T15:33:29.755791",
   "version": "2.3.4"
  }
 },
 "nbformat": 4,
 "nbformat_minor": 5
}
